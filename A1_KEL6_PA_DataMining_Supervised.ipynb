{
  "nbformat": 4,
  "nbformat_minor": 0,
  "metadata": {
    "colab": {
      "provenance": [],
      "collapsed_sections": [
        "NfI8lz_MUtFS",
        "bQvoaFFPU6mq",
        "kJ7GNWW_k_ew",
        "p5DVxyU6-It2",
        "6-jIgEFOh_Zf",
        "HaNiFZfzB5fk"
      ],
      "include_colab_link": true
    },
    "kernelspec": {
      "name": "python3",
      "display_name": "Python 3"
    },
    "language_info": {
      "name": "python"
    }
  },
  "cells": [
    {
      "cell_type": "markdown",
      "metadata": {
        "id": "view-in-github",
        "colab_type": "text"
      },
      "source": [
        "<a href=\"https://colab.research.google.com/github/novianaramadhani/A1_KEL6_PA_DataMining/blob/main/A1_KEL6_PA_DataMining_Supervised.ipynb\" target=\"_parent\"><img src=\"https://colab.research.google.com/assets/colab-badge.svg\" alt=\"Open In Colab\"/></a>"
      ]
    },
    {
      "cell_type": "markdown",
      "source": [
        "#A1_Kelompok 6 =🐧🐤☂️ Supervised\n",
        "##Anggota Kelompok:\n",
        "#### 1. 2109116006 Noviana Ramadhani\n",
        "#### 2. 2109116014 Windy Widyastutik\n",
        "#### 3. 2109116022 Rayhan Abdillah Rapiq"
      ],
      "metadata": {
        "id": "7sTFTgOKhNgD"
      }
    },
    {
      "cell_type": "markdown",
      "source": [
        "# Data Mining\n",
        "\n",
        "\n",
        "####Supervised = https://www.kaggle.com/datasets/mlomuscio/student-food-survey \n",
        "\n",
        "####Unsupervised = https://www.kaggle.com/datasets/fernandol/countries-of-the-world\n",
        "\n"
      ],
      "metadata": {
        "id": "ci8djTXpuOz5"
      }
    },
    {
      "cell_type": "markdown",
      "source": [
        "<img src=\"https://th.bing.com/th/id/R.f8efea41ae3cd96d86fbc5b10f81ad77?rik=K4Dr%2biIaVGvW8g&riu=http%3a%2f%2fwww.dataprix.com%2ffiles%2fCRISPDM%2fMetodologia_CRISP_DM1_html_52cdbecf.png&ehk=6ONLJMCVxE421Sjt2JJPE6MfCzrL7LLhDZQPdkJTLcw%3d&risl=&pid=ImgRaw&r=0\"/>\n"
      ],
      "metadata": {
        "id": "GNEPoeQqSzqN"
      }
    },
    {
      "cell_type": "markdown",
      "source": [
        "## Dataset 1 - Supervised = Survey food student\n",
        "Link kaggle =  https://www.kaggle.com/datasets/mlomuscio/student-food-survey \n"
      ],
      "metadata": {
        "id": "n78-fg-IODj4"
      }
    },
    {
      "cell_type": "markdown",
      "source": [
        "#Business Understanding"
      ],
      "metadata": {
        "id": "iC7urQVR_SGw"
      }
    },
    {
      "cell_type": "markdown",
      "source": [
        "🎀🌈Survey Food Student adalah kumpulan data yang berisi hasil survei tentang kebiasaan makan dan preferensi makanan dari sekelompok siswa. Tujuan survei adalah untuk mengidentifikasi sikap dan kebiasaan tentang konsumsi makanan di sekolah dan di luar sekolah.\n",
        "\n",
        "🍉🔑Dataset ini memberikan informasi yang berguna untuk memahami kebiasaan makan siswa dan faktor apa yang mempengaruhi preferensi makanan mereka. Selain itu juga dapat membantu dalam mengidentifikasi masalah kesehatan yang mungkin terkait dengan kebiasaan makan siswa dan memungkinkan peneliti untuk mengembangkan strategi atau intervensi yang efektif untuk meningkatkan kebiasaan makan yang sehat pada siswa serta dapat digunakan sebagai bahan ajar dalam pembelajaran statistik dan analisis data.\n",
        "\n",
        "Tujuan: Tujuan dari analisis pada dataset ini dapat meliputi pemahaman pola makan siswa di Italia dan pengaruh faktor-faktor seperti jenis kelamin dan aktivitas fisik terhadap preferensi makanan mereka\n",
        "\n",
        "Tujuan menggunakan data mining: Untuk mencari prediksi tingkat nutrisi dari kebiasaan makan siswa. "
      ],
      "metadata": {
        "id": "3XrlqV8W_boF"
      }
    },
    {
      "cell_type": "markdown",
      "source": [
        "###Penjelasan Kolom\n",
        "\n",
        "1. Timestamp : Waktu dan tanggal\n",
        "2. Gender: Jenis kelamin \n",
        "3. Asrama: Hari atau Asrama\n",
        "4. Kelas: Kelas\n",
        "5. Atlet: Atlet atau tidak\n",
        "6. Aktivitas: Aktivitas\n",
        "7. DHBreakfast: Berapa hari dalam seminggu Anda makan sarapan di ruang makan (termasuk makan siang pada hari Sabtu dan Minggu)\n",
        "8. NDHBreakfast: Berapa hari dalam seminggu Anda makan sarapan tetapi tidak di ruang makan\n",
        "9. BClass: Apakah Anda akan lebih mungkin untuk sarapan jika Anda bisa memakannya di kelas\n",
        "10. DHBoxes: Rata-rata, berapa kotak makanan yang Anda makan setiap kali makan di ruang makan\n",
        "11. NDHBoxes: Berapa kotak yang Anda ambil dari ruang makan untuk dimakan nanti\n",
        "12. NDHMeals: Berapa kali seminggu Anda makan di asrama atau pusat siswa\n",
        "13. Nutrisi: Pada skala 0 sampai 5, seberapa sadarkah Anda tentang nilai gizi dari makanan yang Anda makan\n",
        "14. Uang: Rata-rata, berapa banyak uang yang dibelanjakan untuk makanan di luar ruang makan per minggu"
      ],
      "metadata": {
        "id": "6niF09GNi6MP"
      }
    },
    {
      "cell_type": "markdown",
      "source": [
        "#Data Understanding\n",
        "Tahap ini melibatkan memahami dataset yang akan digunakan, melihat fitur apa yang tersedia dan mempelajari apakah ada data yang hilang atau tidak lengkap. Pada tahap ini, kita perlu mempelajari dataset student-food-survey dan mencari tahu apa yang tersedia dalam dataset tersebut dan apakah ada data yang hilang atau tidak lengkap.\n"
      ],
      "metadata": {
        "id": "C2C3CdAXABNS"
      }
    },
    {
      "cell_type": "code",
      "source": [
        "# import library\n",
        "import pandas as pd\n",
        "import numpy as np\n",
        "import math"
      ],
      "metadata": {
        "id": "TiQN_u5O74rt"
      },
      "execution_count": 1,
      "outputs": []
    },
    {
      "cell_type": "code",
      "source": [
        "food_survey= \"https://drive.google.com/file/d/1orRhv3rtUm_ekzvNDIi2h8srz4ZZSof0/view?usp=share_link\"\n",
        "data_food_survey= \"https://drive.google.com/uc?id=1orRhv3rtUm_ekzvNDIi2h8srz4ZZSof0\""
      ],
      "metadata": {
        "id": "xFUFrkbQrTwq"
      },
      "execution_count": 2,
      "outputs": []
    },
    {
      "cell_type": "code",
      "source": [
        "# Membaca dataset\n",
        "df = pd.read_csv(data_food_survey)\n",
        "df"
      ],
      "metadata": {
        "id": "NPlsDuR0ECep",
        "colab": {
          "base_uri": "https://localhost:8080/",
          "height": 641
        },
        "outputId": "6be1c8e5-5e5a-4c5a-a6da-670cc2e27362"
      },
      "execution_count": 3,
      "outputs": [
        {
          "output_type": "execute_result",
          "data": {
            "text/plain": [
              "               Timestamp  Gender  Boarding Grade Athlete  \\\n",
              "0    10/22/2020 11:36:55  Female       Day  12th      No   \n",
              "1    10/22/2020 11:36:58    Male  Boarding  10th     Yes   \n",
              "2    10/22/2020 11:36:59  Female       Day   9th     Yes   \n",
              "3    10/22/2020 11:37:00    Male       Day  11th      No   \n",
              "4    10/22/2020 11:37:01  Female       Day  12th      No   \n",
              "..                   ...     ...       ...   ...     ...   \n",
              "162  10/23/2020 10:39:15    Male  Boarding  12th      No   \n",
              "163  10/23/2020 12:34:25  Female       Day  11th      No   \n",
              "164  10/23/2020 22:51:15    Male       Day   9th      No   \n",
              "165  10/24/2020 17:39:51  Female       Day  10th      No   \n",
              "166  10/25/2020 16:01:48    Male       Day   9th     Yes   \n",
              "\n",
              "                  Activities  DHBreakfast  NDHBreakfast BClass  DHBoxes  \\\n",
              "0          None of the above            0             2     No      2.0   \n",
              "1                     Soccer            5             2     No      2.0   \n",
              "2                     Tennis            3             7    Yes      2.0   \n",
              "3          None of the above            0             4     No      2.0   \n",
              "4                    Musical            0             5    Yes      1.0   \n",
              "..                       ...          ...           ...    ...      ...   \n",
              "162        None of the above            2             0    Yes      2.0   \n",
              "163        None of the above            0             7     No      2.0   \n",
              "164            Cross Country            0             0     No      0.0   \n",
              "165  Pre-season conditioning            0             2    Yes      1.0   \n",
              "166            Cross Country            0             7     No      2.0   \n",
              "\n",
              "     NDHBoxes  NDHMeals  Nutrition  Money  \n",
              "0         0.0         0        0.0   40.0  \n",
              "1         0.0         5        4.0   15.0  \n",
              "2         0.0        10        4.0   50.0  \n",
              "3         0.0         1        2.0    4.0  \n",
              "4         0.0         2        3.0   20.0  \n",
              "..        ...       ...        ...    ...  \n",
              "162       1.0         5        1.0   25.0  \n",
              "163       0.0         0        3.0    0.0  \n",
              "164       0.0         0        0.0    1.0  \n",
              "165       0.0         0        4.0    0.0  \n",
              "166       0.0         0        3.0    3.0  \n",
              "\n",
              "[167 rows x 14 columns]"
            ],
            "text/html": [
              "\n",
              "  <div id=\"df-715591bd-4f59-4a41-a26e-b0f90df9c8d7\">\n",
              "    <div class=\"colab-df-container\">\n",
              "      <div>\n",
              "<style scoped>\n",
              "    .dataframe tbody tr th:only-of-type {\n",
              "        vertical-align: middle;\n",
              "    }\n",
              "\n",
              "    .dataframe tbody tr th {\n",
              "        vertical-align: top;\n",
              "    }\n",
              "\n",
              "    .dataframe thead th {\n",
              "        text-align: right;\n",
              "    }\n",
              "</style>\n",
              "<table border=\"1\" class=\"dataframe\">\n",
              "  <thead>\n",
              "    <tr style=\"text-align: right;\">\n",
              "      <th></th>\n",
              "      <th>Timestamp</th>\n",
              "      <th>Gender</th>\n",
              "      <th>Boarding</th>\n",
              "      <th>Grade</th>\n",
              "      <th>Athlete</th>\n",
              "      <th>Activities</th>\n",
              "      <th>DHBreakfast</th>\n",
              "      <th>NDHBreakfast</th>\n",
              "      <th>BClass</th>\n",
              "      <th>DHBoxes</th>\n",
              "      <th>NDHBoxes</th>\n",
              "      <th>NDHMeals</th>\n",
              "      <th>Nutrition</th>\n",
              "      <th>Money</th>\n",
              "    </tr>\n",
              "  </thead>\n",
              "  <tbody>\n",
              "    <tr>\n",
              "      <th>0</th>\n",
              "      <td>10/22/2020 11:36:55</td>\n",
              "      <td>Female</td>\n",
              "      <td>Day</td>\n",
              "      <td>12th</td>\n",
              "      <td>No</td>\n",
              "      <td>None of the above</td>\n",
              "      <td>0</td>\n",
              "      <td>2</td>\n",
              "      <td>No</td>\n",
              "      <td>2.0</td>\n",
              "      <td>0.0</td>\n",
              "      <td>0</td>\n",
              "      <td>0.0</td>\n",
              "      <td>40.0</td>\n",
              "    </tr>\n",
              "    <tr>\n",
              "      <th>1</th>\n",
              "      <td>10/22/2020 11:36:58</td>\n",
              "      <td>Male</td>\n",
              "      <td>Boarding</td>\n",
              "      <td>10th</td>\n",
              "      <td>Yes</td>\n",
              "      <td>Soccer</td>\n",
              "      <td>5</td>\n",
              "      <td>2</td>\n",
              "      <td>No</td>\n",
              "      <td>2.0</td>\n",
              "      <td>0.0</td>\n",
              "      <td>5</td>\n",
              "      <td>4.0</td>\n",
              "      <td>15.0</td>\n",
              "    </tr>\n",
              "    <tr>\n",
              "      <th>2</th>\n",
              "      <td>10/22/2020 11:36:59</td>\n",
              "      <td>Female</td>\n",
              "      <td>Day</td>\n",
              "      <td>9th</td>\n",
              "      <td>Yes</td>\n",
              "      <td>Tennis</td>\n",
              "      <td>3</td>\n",
              "      <td>7</td>\n",
              "      <td>Yes</td>\n",
              "      <td>2.0</td>\n",
              "      <td>0.0</td>\n",
              "      <td>10</td>\n",
              "      <td>4.0</td>\n",
              "      <td>50.0</td>\n",
              "    </tr>\n",
              "    <tr>\n",
              "      <th>3</th>\n",
              "      <td>10/22/2020 11:37:00</td>\n",
              "      <td>Male</td>\n",
              "      <td>Day</td>\n",
              "      <td>11th</td>\n",
              "      <td>No</td>\n",
              "      <td>None of the above</td>\n",
              "      <td>0</td>\n",
              "      <td>4</td>\n",
              "      <td>No</td>\n",
              "      <td>2.0</td>\n",
              "      <td>0.0</td>\n",
              "      <td>1</td>\n",
              "      <td>2.0</td>\n",
              "      <td>4.0</td>\n",
              "    </tr>\n",
              "    <tr>\n",
              "      <th>4</th>\n",
              "      <td>10/22/2020 11:37:01</td>\n",
              "      <td>Female</td>\n",
              "      <td>Day</td>\n",
              "      <td>12th</td>\n",
              "      <td>No</td>\n",
              "      <td>Musical</td>\n",
              "      <td>0</td>\n",
              "      <td>5</td>\n",
              "      <td>Yes</td>\n",
              "      <td>1.0</td>\n",
              "      <td>0.0</td>\n",
              "      <td>2</td>\n",
              "      <td>3.0</td>\n",
              "      <td>20.0</td>\n",
              "    </tr>\n",
              "    <tr>\n",
              "      <th>...</th>\n",
              "      <td>...</td>\n",
              "      <td>...</td>\n",
              "      <td>...</td>\n",
              "      <td>...</td>\n",
              "      <td>...</td>\n",
              "      <td>...</td>\n",
              "      <td>...</td>\n",
              "      <td>...</td>\n",
              "      <td>...</td>\n",
              "      <td>...</td>\n",
              "      <td>...</td>\n",
              "      <td>...</td>\n",
              "      <td>...</td>\n",
              "      <td>...</td>\n",
              "    </tr>\n",
              "    <tr>\n",
              "      <th>162</th>\n",
              "      <td>10/23/2020 10:39:15</td>\n",
              "      <td>Male</td>\n",
              "      <td>Boarding</td>\n",
              "      <td>12th</td>\n",
              "      <td>No</td>\n",
              "      <td>None of the above</td>\n",
              "      <td>2</td>\n",
              "      <td>0</td>\n",
              "      <td>Yes</td>\n",
              "      <td>2.0</td>\n",
              "      <td>1.0</td>\n",
              "      <td>5</td>\n",
              "      <td>1.0</td>\n",
              "      <td>25.0</td>\n",
              "    </tr>\n",
              "    <tr>\n",
              "      <th>163</th>\n",
              "      <td>10/23/2020 12:34:25</td>\n",
              "      <td>Female</td>\n",
              "      <td>Day</td>\n",
              "      <td>11th</td>\n",
              "      <td>No</td>\n",
              "      <td>None of the above</td>\n",
              "      <td>0</td>\n",
              "      <td>7</td>\n",
              "      <td>No</td>\n",
              "      <td>2.0</td>\n",
              "      <td>0.0</td>\n",
              "      <td>0</td>\n",
              "      <td>3.0</td>\n",
              "      <td>0.0</td>\n",
              "    </tr>\n",
              "    <tr>\n",
              "      <th>164</th>\n",
              "      <td>10/23/2020 22:51:15</td>\n",
              "      <td>Male</td>\n",
              "      <td>Day</td>\n",
              "      <td>9th</td>\n",
              "      <td>No</td>\n",
              "      <td>Cross Country</td>\n",
              "      <td>0</td>\n",
              "      <td>0</td>\n",
              "      <td>No</td>\n",
              "      <td>0.0</td>\n",
              "      <td>0.0</td>\n",
              "      <td>0</td>\n",
              "      <td>0.0</td>\n",
              "      <td>1.0</td>\n",
              "    </tr>\n",
              "    <tr>\n",
              "      <th>165</th>\n",
              "      <td>10/24/2020 17:39:51</td>\n",
              "      <td>Female</td>\n",
              "      <td>Day</td>\n",
              "      <td>10th</td>\n",
              "      <td>No</td>\n",
              "      <td>Pre-season conditioning</td>\n",
              "      <td>0</td>\n",
              "      <td>2</td>\n",
              "      <td>Yes</td>\n",
              "      <td>1.0</td>\n",
              "      <td>0.0</td>\n",
              "      <td>0</td>\n",
              "      <td>4.0</td>\n",
              "      <td>0.0</td>\n",
              "    </tr>\n",
              "    <tr>\n",
              "      <th>166</th>\n",
              "      <td>10/25/2020 16:01:48</td>\n",
              "      <td>Male</td>\n",
              "      <td>Day</td>\n",
              "      <td>9th</td>\n",
              "      <td>Yes</td>\n",
              "      <td>Cross Country</td>\n",
              "      <td>0</td>\n",
              "      <td>7</td>\n",
              "      <td>No</td>\n",
              "      <td>2.0</td>\n",
              "      <td>0.0</td>\n",
              "      <td>0</td>\n",
              "      <td>3.0</td>\n",
              "      <td>3.0</td>\n",
              "    </tr>\n",
              "  </tbody>\n",
              "</table>\n",
              "<p>167 rows × 14 columns</p>\n",
              "</div>\n",
              "      <button class=\"colab-df-convert\" onclick=\"convertToInteractive('df-715591bd-4f59-4a41-a26e-b0f90df9c8d7')\"\n",
              "              title=\"Convert this dataframe to an interactive table.\"\n",
              "              style=\"display:none;\">\n",
              "        \n",
              "  <svg xmlns=\"http://www.w3.org/2000/svg\" height=\"24px\"viewBox=\"0 0 24 24\"\n",
              "       width=\"24px\">\n",
              "    <path d=\"M0 0h24v24H0V0z\" fill=\"none\"/>\n",
              "    <path d=\"M18.56 5.44l.94 2.06.94-2.06 2.06-.94-2.06-.94-.94-2.06-.94 2.06-2.06.94zm-11 1L8.5 8.5l.94-2.06 2.06-.94-2.06-.94L8.5 2.5l-.94 2.06-2.06.94zm10 10l.94 2.06.94-2.06 2.06-.94-2.06-.94-.94-2.06-.94 2.06-2.06.94z\"/><path d=\"M17.41 7.96l-1.37-1.37c-.4-.4-.92-.59-1.43-.59-.52 0-1.04.2-1.43.59L10.3 9.45l-7.72 7.72c-.78.78-.78 2.05 0 2.83L4 21.41c.39.39.9.59 1.41.59.51 0 1.02-.2 1.41-.59l7.78-7.78 2.81-2.81c.8-.78.8-2.07 0-2.86zM5.41 20L4 18.59l7.72-7.72 1.47 1.35L5.41 20z\"/>\n",
              "  </svg>\n",
              "      </button>\n",
              "      \n",
              "  <style>\n",
              "    .colab-df-container {\n",
              "      display:flex;\n",
              "      flex-wrap:wrap;\n",
              "      gap: 12px;\n",
              "    }\n",
              "\n",
              "    .colab-df-convert {\n",
              "      background-color: #E8F0FE;\n",
              "      border: none;\n",
              "      border-radius: 50%;\n",
              "      cursor: pointer;\n",
              "      display: none;\n",
              "      fill: #1967D2;\n",
              "      height: 32px;\n",
              "      padding: 0 0 0 0;\n",
              "      width: 32px;\n",
              "    }\n",
              "\n",
              "    .colab-df-convert:hover {\n",
              "      background-color: #E2EBFA;\n",
              "      box-shadow: 0px 1px 2px rgba(60, 64, 67, 0.3), 0px 1px 3px 1px rgba(60, 64, 67, 0.15);\n",
              "      fill: #174EA6;\n",
              "    }\n",
              "\n",
              "    [theme=dark] .colab-df-convert {\n",
              "      background-color: #3B4455;\n",
              "      fill: #D2E3FC;\n",
              "    }\n",
              "\n",
              "    [theme=dark] .colab-df-convert:hover {\n",
              "      background-color: #434B5C;\n",
              "      box-shadow: 0px 1px 3px 1px rgba(0, 0, 0, 0.15);\n",
              "      filter: drop-shadow(0px 1px 2px rgba(0, 0, 0, 0.3));\n",
              "      fill: #FFFFFF;\n",
              "    }\n",
              "  </style>\n",
              "\n",
              "      <script>\n",
              "        const buttonEl =\n",
              "          document.querySelector('#df-715591bd-4f59-4a41-a26e-b0f90df9c8d7 button.colab-df-convert');\n",
              "        buttonEl.style.display =\n",
              "          google.colab.kernel.accessAllowed ? 'block' : 'none';\n",
              "\n",
              "        async function convertToInteractive(key) {\n",
              "          const element = document.querySelector('#df-715591bd-4f59-4a41-a26e-b0f90df9c8d7');\n",
              "          const dataTable =\n",
              "            await google.colab.kernel.invokeFunction('convertToInteractive',\n",
              "                                                     [key], {});\n",
              "          if (!dataTable) return;\n",
              "\n",
              "          const docLinkHtml = 'Like what you see? Visit the ' +\n",
              "            '<a target=\"_blank\" href=https://colab.research.google.com/notebooks/data_table.ipynb>data table notebook</a>'\n",
              "            + ' to learn more about interactive tables.';\n",
              "          element.innerHTML = '';\n",
              "          dataTable['output_type'] = 'display_data';\n",
              "          await google.colab.output.renderOutput(dataTable, element);\n",
              "          const docLink = document.createElement('div');\n",
              "          docLink.innerHTML = docLinkHtml;\n",
              "          element.appendChild(docLink);\n",
              "        }\n",
              "      </script>\n",
              "    </div>\n",
              "  </div>\n",
              "  "
            ]
          },
          "metadata": {},
          "execution_count": 3
        }
      ]
    },
    {
      "cell_type": "code",
      "source": [
        "# Identifikasi outliers pada fitur DHBreakfast\n",
        "df.boxplot(column=['DHBreakfast'])"
      ],
      "metadata": {
        "colab": {
          "base_uri": "https://localhost:8080/",
          "height": 447
        },
        "id": "JbwimNWOlSoo",
        "outputId": "49e7ab7b-4228-4377-f24c-4b3b78335472"
      },
      "execution_count": 4,
      "outputs": [
        {
          "output_type": "execute_result",
          "data": {
            "text/plain": [
              "<Axes: >"
            ]
          },
          "metadata": {},
          "execution_count": 4
        },
        {
          "output_type": "display_data",
          "data": {
            "text/plain": [
              "<Figure size 640x480 with 1 Axes>"
            ],
            "image/png": "[encoded data removed]"
          },
          "metadata": {}
        }
      ]
    },
    {
      "cell_type": "code",
      "source": [
        "df.info()"
      ],
      "metadata": {
        "colab": {
          "base_uri": "https://localhost:8080/"
        },
        "id": "4f4omQzl-Gme",
        "outputId": "414966e6-8cd0-4f77-d900-e7d13f31e59b"
      },
      "execution_count": null,
      "outputs": [
        {
          "output_type": "stream",
          "name": "stdout",
          "text": [
            "<class 'pandas.core.frame.DataFrame'>\n",
            "RangeIndex: 167 entries, 0 to 166\n",
            "Data columns (total 14 columns):\n",
            " #   Column        Non-Null Count  Dtype  \n",
            "---  ------        --------------  -----  \n",
            " 0   Timestamp     167 non-null    object \n",
            " 1   Gender        167 non-null    object \n",
            " 2   Boarding      167 non-null    object \n",
            " 3   Grade         166 non-null    object \n",
            " 4   Athlete       166 non-null    object \n",
            " 5   Activities    166 non-null    object \n",
            " 6   DHBreakfast   167 non-null    int64  \n",
            " 7   NDHBreakfast  167 non-null    int64  \n",
            " 8   BClass        167 non-null    object \n",
            " 9   DHBoxes       165 non-null    float64\n",
            " 10  NDHBoxes      164 non-null    float64\n",
            " 11  NDHMeals      167 non-null    int64  \n",
            " 12  Nutrition     166 non-null    float64\n",
            " 13  Money         141 non-null    float64\n",
            "dtypes: float64(4), int64(3), object(7)\n",
            "memory usage: 18.4+ KB\n"
          ]
        }
      ]
    },
    {
      "cell_type": "markdown",
      "source": [
        "###Explorating Data"
      ],
      "metadata": {
        "id": "NjHMUPIlUe4B"
      }
    },
    {
      "cell_type": "code",
      "source": [
        "import seaborn as sns\n",
        "import plotly.express as px"
      ],
      "metadata": {
        "id": "yLAI83-AUnHC"
      },
      "execution_count": null,
      "outputs": []
    },
    {
      "cell_type": "markdown",
      "source": [
        "###Visualisasi Comparison"
      ],
      "metadata": {
        "id": "NfI8lz_MUtFS"
      }
    },
    {
      "cell_type": "code",
      "source": [
        "sns.countplot(data=df,x=\"Nutrition\") "
      ],
      "metadata": {
        "colab": {
          "base_uri": "https://localhost:8080/"
        },
        "id": "s84SFQhOUvLL",
        "outputId": "b096236e-2de1-4290-d139-47e43eb07e88"
      },
      "execution_count": null,
      "outputs": [
        {
          "output_type": "execute_result",
          "data": {
            "text/plain": [
              "<Axes: xlabel='Nutrition', ylabel='count'>"
            ]
          },
          "metadata": {},
          "execution_count": 9
        },
        {
          "output_type": "display_data",
          "data": {
            "text/plain": [
              "<Figure size 640x480 with 1 Axes>"
            ],
            "image/png": "[encoded data removed]"
          },
          "metadata": {}
        }
      ]
    },
    {
      "cell_type": "code",
      "source": [
        "sns.countplot(data=df, y=\"Boarding\", hue=\"Grade\") "
      ],
      "metadata": {
        "colab": {
          "base_uri": "https://localhost:8080/"
        },
        "id": "5a8sl20FU0-1",
        "outputId": "da6bdbe9-9d63-4e10-a03b-3cdce9da28e0"
      },
      "execution_count": null,
      "outputs": [
        {
          "output_type": "execute_result",
          "data": {
            "text/plain": [
              "<Axes: xlabel='count', ylabel='Boarding'>"
            ]
          },
          "metadata": {},
          "execution_count": 10
        },
        {
          "output_type": "display_data",
          "data": {
            "text/plain": [
              "<Figure size 640x480 with 1 Axes>"
            ],
            "image/png": "[encoded data removed]"
          },
          "metadata": {}
        }
      ]
    },
    {
      "cell_type": "markdown",
      "source": [
        "###Visualisasi Distribution"
      ],
      "metadata": {
        "id": "bQvoaFFPU6mq"
      }
    },
    {
      "cell_type": "code",
      "source": [
        "sns.histplot(data=df,x=\"Athlete\",kde=True)"
      ],
      "metadata": {
        "colab": {
          "base_uri": "https://localhost:8080/"
        },
        "id": "6gSSlExHU56q",
        "outputId": "9c97dafd-842b-40eb-fd6b-3b8cd5463e80"
      },
      "execution_count": null,
      "outputs": [
        {
          "output_type": "execute_result",
          "data": {
            "text/plain": [
              "<Axes: xlabel='Athlete', ylabel='Count'>"
            ]
          },
          "metadata": {},
          "execution_count": 11
        },
        {
          "output_type": "display_data",
          "data": {
            "text/plain": [
              "<Figure size 640x480 with 1 Axes>"
            ],
            "image/png": "[encoded data removed]"
          },
          "metadata": {}
        }
      ]
    },
    {
      "cell_type": "code",
      "source": [
        "sns.boxplot(x=\"DHBreakfast\", y=\"DHBoxes\",data=df)"
      ],
      "metadata": {
        "colab": {
          "base_uri": "https://localhost:8080/"
        },
        "id": "uc-IDqVsVEPY",
        "outputId": "2d7929d6-54e1-44de-f331-5b6efdb8a5f7"
      },
      "execution_count": null,
      "outputs": [
        {
          "output_type": "execute_result",
          "data": {
            "text/plain": [
              "<Axes: xlabel='DHBreakfast', ylabel='DHBoxes'>"
            ]
          },
          "metadata": {},
          "execution_count": 12
        },
        {
          "output_type": "display_data",
          "data": {
            "text/plain": [
              "<Figure size 640x480 with 1 Axes>"
            ],
            "image/png": "[encoded data removed]"
          },
          "metadata": {}
        }
      ]
    },
    {
      "cell_type": "code",
      "source": [
        "sns.scatterplot(data=df, x=\"NDHMeals\", y=\"Nutrition\")"
      ],
      "metadata": {
        "colab": {
          "base_uri": "https://localhost:8080/"
        },
        "id": "cHFveuw0VKFc",
        "outputId": "1077a210-a4db-4882-a9da-7d25819589cc"
      },
      "execution_count": null,
      "outputs": [
        {
          "output_type": "execute_result",
          "data": {
            "text/plain": [
              "<Axes: xlabel='NDHMeals', ylabel='Nutrition'>"
            ]
          },
          "metadata": {},
          "execution_count": 13
        },
        {
          "output_type": "display_data",
          "data": {
            "text/plain": [
              "<Figure size 640x480 with 1 Axes>"
            ],
            "image/png": "[encoded data removed]"
          },
          "metadata": {}
        }
      ]
    },
    {
      "cell_type": "markdown",
      "source": [
        "#Data Preparation \n",
        "Tahap ini melibatkan mempersiapkan data untuk analisis, termasuk membersihkan data yang tidak relevan, memperbaiki data yang rusak, dan membuat dataset yang siap digunakan. Pada tahap ini, kita harus membersihkan data, memperbaiki data yang rusak, dan mempersiapkan dataset yang siap digunakan."
      ],
      "metadata": {
        "id": "-850ri2nT3_-"
      }
    },
    {
      "cell_type": "markdown",
      "source": [
        "#####Cleansing Data"
      ],
      "metadata": {
        "id": "sTHPmpZBBV44"
      }
    },
    {
      "cell_type": "code",
      "source": [
        "#Menghapus kolom yang tidak relevan\n",
        "dnew = df.drop(['Timestamp','Athlete'], axis=1)\n",
        "dnew"
      ],
      "metadata": {
        "id": "VY3RJRfXOgQL",
        "colab": {
          "base_uri": "https://localhost:8080/",
          "height": 423
        },
        "outputId": "bb82f848-d591-4f70-8336-06f74ac4d6cf"
      },
      "execution_count": null,
      "outputs": [
        {
          "output_type": "execute_result",
          "data": {
            "text/plain": [
              "     Gender  Boarding Grade               Activities  DHBreakfast  \\\n",
              "0    Female       Day  12th        None of the above            0   \n",
              "1      Male  Boarding  10th                   Soccer            5   \n",
              "2    Female       Day   9th                   Tennis            3   \n",
              "3      Male       Day  11th        None of the above            0   \n",
              "4    Female       Day  12th                  Musical            0   \n",
              "..      ...       ...   ...                      ...          ...   \n",
              "162    Male  Boarding  12th        None of the above            2   \n",
              "163  Female       Day  11th        None of the above            0   \n",
              "164    Male       Day   9th            Cross Country            0   \n",
              "165  Female       Day  10th  Pre-season conditioning            0   \n",
              "166    Male       Day   9th            Cross Country            0   \n",
              "\n",
              "     NDHBreakfast BClass  DHBoxes  NDHBoxes  NDHMeals  Nutrition  Money  \n",
              "0               2     No      2.0       0.0         0        0.0   40.0  \n",
              "1               2     No      2.0       0.0         5        4.0   15.0  \n",
              "2               7    Yes      2.0       0.0        10        4.0   50.0  \n",
              "3               4     No      2.0       0.0         1        2.0    4.0  \n",
              "4               5    Yes      1.0       0.0         2        3.0   20.0  \n",
              "..            ...    ...      ...       ...       ...        ...    ...  \n",
              "162             0    Yes      2.0       1.0         5        1.0   25.0  \n",
              "163             7     No      2.0       0.0         0        3.0    0.0  \n",
              "164             0     No      0.0       0.0         0        0.0    1.0  \n",
              "165             2    Yes      1.0       0.0         0        4.0    0.0  \n",
              "166             7     No      2.0       0.0         0        3.0    3.0  \n",
              "\n",
              "[167 rows x 12 columns]"
            ],
            "text/html": [
              "\n",
              "  <div id=\"df-78f74bd0-82dc-45eb-a39f-c53fb87b3401\">\n",
              "    <div class=\"colab-df-container\">\n",
              "      <div>\n",
              "<style scoped>\n",
              "    .dataframe tbody tr th:only-of-type {\n",
              "        vertical-align: middle;\n",
              "    }\n",
              "\n",
              "    .dataframe tbody tr th {\n",
              "        vertical-align: top;\n",
              "    }\n",
              "\n",
              "    .dataframe thead th {\n",
              "        text-align: right;\n",
              "    }\n",
              "</style>\n",
              "<table border=\"1\" class=\"dataframe\">\n",
              "  <thead>\n",
              "    <tr style=\"text-align: right;\">\n",
              "      <th></th>\n",
              "      <th>Gender</th>\n",
              "      <th>Boarding</th>\n",
              "      <th>Grade</th>\n",
              "      <th>Activities</th>\n",
              "      <th>DHBreakfast</th>\n",
              "      <th>NDHBreakfast</th>\n",
              "      <th>BClass</th>\n",
              "      <th>DHBoxes</th>\n",
              "      <th>NDHBoxes</th>\n",
              "      <th>NDHMeals</th>\n",
              "      <th>Nutrition</th>\n",
              "      <th>Money</th>\n",
              "    </tr>\n",
              "  </thead>\n",
              "  <tbody>\n",
              "    <tr>\n",
              "      <th>0</th>\n",
              "      <td>Female</td>\n",
              "      <td>Day</td>\n",
              "      <td>12th</td>\n",
              "      <td>None of the above</td>\n",
              "      <td>0</td>\n",
              "      <td>2</td>\n",
              "      <td>No</td>\n",
              "      <td>2.0</td>\n",
              "      <td>0.0</td>\n",
              "      <td>0</td>\n",
              "      <td>0.0</td>\n",
              "      <td>40.0</td>\n",
              "    </tr>\n",
              "    <tr>\n",
              "      <th>1</th>\n",
              "      <td>Male</td>\n",
              "      <td>Boarding</td>\n",
              "      <td>10th</td>\n",
              "      <td>Soccer</td>\n",
              "      <td>5</td>\n",
              "      <td>2</td>\n",
              "      <td>No</td>\n",
              "      <td>2.0</td>\n",
              "      <td>0.0</td>\n",
              "      <td>5</td>\n",
              "      <td>4.0</td>\n",
              "      <td>15.0</td>\n",
              "    </tr>\n",
              "    <tr>\n",
              "      <th>2</th>\n",
              "      <td>Female</td>\n",
              "      <td>Day</td>\n",
              "      <td>9th</td>\n",
              "      <td>Tennis</td>\n",
              "      <td>3</td>\n",
              "      <td>7</td>\n",
              "      <td>Yes</td>\n",
              "      <td>2.0</td>\n",
              "      <td>0.0</td>\n",
              "      <td>10</td>\n",
              "      <td>4.0</td>\n",
              "      <td>50.0</td>\n",
              "    </tr>\n",
              "    <tr>\n",
              "      <th>3</th>\n",
              "      <td>Male</td>\n",
              "      <td>Day</td>\n",
              "      <td>11th</td>\n",
              "      <td>None of the above</td>\n",
              "      <td>0</td>\n",
              "      <td>4</td>\n",
              "      <td>No</td>\n",
              "      <td>2.0</td>\n",
              "      <td>0.0</td>\n",
              "      <td>1</td>\n",
              "      <td>2.0</td>\n",
              "      <td>4.0</td>\n",
              "    </tr>\n",
              "    <tr>\n",
              "      <th>4</th>\n",
              "      <td>Female</td>\n",
              "      <td>Day</td>\n",
              "      <td>12th</td>\n",
              "      <td>Musical</td>\n",
              "      <td>0</td>\n",
              "      <td>5</td>\n",
              "      <td>Yes</td>\n",
              "      <td>1.0</td>\n",
              "      <td>0.0</td>\n",
              "      <td>2</td>\n",
              "      <td>3.0</td>\n",
              "      <td>20.0</td>\n",
              "    </tr>\n",
              "    <tr>\n",
              "      <th>...</th>\n",
              "      <td>...</td>\n",
              "      <td>...</td>\n",
              "      <td>...</td>\n",
              "      <td>...</td>\n",
              "      <td>...</td>\n",
              "      <td>...</td>\n",
              "      <td>...</td>\n",
              "      <td>...</td>\n",
              "      <td>...</td>\n",
              "      <td>...</td>\n",
              "      <td>...</td>\n",
              "      <td>...</td>\n",
              "    </tr>\n",
              "    <tr>\n",
              "      <th>162</th>\n",
              "      <td>Male</td>\n",
              "      <td>Boarding</td>\n",
              "      <td>12th</td>\n",
              "      <td>None of the above</td>\n",
              "      <td>2</td>\n",
              "      <td>0</td>\n",
              "      <td>Yes</td>\n",
              "      <td>2.0</td>\n",
              "      <td>1.0</td>\n",
              "      <td>5</td>\n",
              "      <td>1.0</td>\n",
              "      <td>25.0</td>\n",
              "    </tr>\n",
              "    <tr>\n",
              "      <th>163</th>\n",
              "      <td>Female</td>\n",
              "      <td>Day</td>\n",
              "      <td>11th</td>\n",
              "      <td>None of the above</td>\n",
              "      <td>0</td>\n",
              "      <td>7</td>\n",
              "      <td>No</td>\n",
              "      <td>2.0</td>\n",
              "      <td>0.0</td>\n",
              "      <td>0</td>\n",
              "      <td>3.0</td>\n",
              "      <td>0.0</td>\n",
              "    </tr>\n",
              "    <tr>\n",
              "      <th>164</th>\n",
              "      <td>Male</td>\n",
              "      <td>Day</td>\n",
              "      <td>9th</td>\n",
              "      <td>Cross Country</td>\n",
              "      <td>0</td>\n",
              "      <td>0</td>\n",
              "      <td>No</td>\n",
              "      <td>0.0</td>\n",
              "      <td>0.0</td>\n",
              "      <td>0</td>\n",
              "      <td>0.0</td>\n",
              "      <td>1.0</td>\n",
              "    </tr>\n",
              "    <tr>\n",
              "      <th>165</th>\n",
              "      <td>Female</td>\n",
              "      <td>Day</td>\n",
              "      <td>10th</td>\n",
              "      <td>Pre-season conditioning</td>\n",
              "      <td>0</td>\n",
              "      <td>2</td>\n",
              "      <td>Yes</td>\n",
              "      <td>1.0</td>\n",
              "      <td>0.0</td>\n",
              "      <td>0</td>\n",
              "      <td>4.0</td>\n",
              "      <td>0.0</td>\n",
              "    </tr>\n",
              "    <tr>\n",
              "      <th>166</th>\n",
              "      <td>Male</td>\n",
              "      <td>Day</td>\n",
              "      <td>9th</td>\n",
              "      <td>Cross Country</td>\n",
              "      <td>0</td>\n",
              "      <td>7</td>\n",
              "      <td>No</td>\n",
              "      <td>2.0</td>\n",
              "      <td>0.0</td>\n",
              "      <td>0</td>\n",
              "      <td>3.0</td>\n",
              "      <td>3.0</td>\n",
              "    </tr>\n",
              "  </tbody>\n",
              "</table>\n",
              "<p>167 rows × 12 columns</p>\n",
              "</div>\n",
              "      <button class=\"colab-df-convert\" onclick=\"convertToInteractive('df-78f74bd0-82dc-45eb-a39f-c53fb87b3401')\"\n",
              "              title=\"Convert this dataframe to an interactive table.\"\n",
              "              style=\"display:none;\">\n",
              "        \n",
              "  <svg xmlns=\"http://www.w3.org/2000/svg\" height=\"24px\"viewBox=\"0 0 24 24\"\n",
              "       width=\"24px\">\n",
              "    <path d=\"M0 0h24v24H0V0z\" fill=\"none\"/>\n",
              "    <path d=\"M18.56 5.44l.94 2.06.94-2.06 2.06-.94-2.06-.94-.94-2.06-.94 2.06-2.06.94zm-11 1L8.5 8.5l.94-2.06 2.06-.94-2.06-.94L8.5 2.5l-.94 2.06-2.06.94zm10 10l.94 2.06.94-2.06 2.06-.94-2.06-.94-.94-2.06-.94 2.06-2.06.94z\"/><path d=\"M17.41 7.96l-1.37-1.37c-.4-.4-.92-.59-1.43-.59-.52 0-1.04.2-1.43.59L10.3 9.45l-7.72 7.72c-.78.78-.78 2.05 0 2.83L4 21.41c.39.39.9.59 1.41.59.51 0 1.02-.2 1.41-.59l7.78-7.78 2.81-2.81c.8-.78.8-2.07 0-2.86zM5.41 20L4 18.59l7.72-7.72 1.47 1.35L5.41 20z\"/>\n",
              "  </svg>\n",
              "      </button>\n",
              "      \n",
              "  <style>\n",
              "    .colab-df-container {\n",
              "      display:flex;\n",
              "      flex-wrap:wrap;\n",
              "      gap: 12px;\n",
              "    }\n",
              "\n",
              "    .colab-df-convert {\n",
              "      background-color: #E8F0FE;\n",
              "      border: none;\n",
              "      border-radius: 50%;\n",
              "      cursor: pointer;\n",
              "      display: none;\n",
              "      fill: #1967D2;\n",
              "      height: 32px;\n",
              "      padding: 0 0 0 0;\n",
              "      width: 32px;\n",
              "    }\n",
              "\n",
              "    .colab-df-convert:hover {\n",
              "      background-color: #E2EBFA;\n",
              "      box-shadow: 0px 1px 2px rgba(60, 64, 67, 0.3), 0px 1px 3px 1px rgba(60, 64, 67, 0.15);\n",
              "      fill: #174EA6;\n",
              "    }\n",
              "\n",
              "    [theme=dark] .colab-df-convert {\n",
              "      background-color: #3B4455;\n",
              "      fill: #D2E3FC;\n",
              "    }\n",
              "\n",
              "    [theme=dark] .colab-df-convert:hover {\n",
              "      background-color: #434B5C;\n",
              "      box-shadow: 0px 1px 3px 1px rgba(0, 0, 0, 0.15);\n",
              "      filter: drop-shadow(0px 1px 2px rgba(0, 0, 0, 0.3));\n",
              "      fill: #FFFFFF;\n",
              "    }\n",
              "  </style>\n",
              "\n",
              "      <script>\n",
              "        const buttonEl =\n",
              "          document.querySelector('#df-78f74bd0-82dc-45eb-a39f-c53fb87b3401 button.colab-df-convert');\n",
              "        buttonEl.style.display =\n",
              "          google.colab.kernel.accessAllowed ? 'block' : 'none';\n",
              "\n",
              "        async function convertToInteractive(key) {\n",
              "          const element = document.querySelector('#df-78f74bd0-82dc-45eb-a39f-c53fb87b3401');\n",
              "          const dataTable =\n",
              "            await google.colab.kernel.invokeFunction('convertToInteractive',\n",
              "                                                     [key], {});\n",
              "          if (!dataTable) return;\n",
              "\n",
              "          const docLinkHtml = 'Like what you see? Visit the ' +\n",
              "            '<a target=\"_blank\" href=https://colab.research.google.com/notebooks/data_table.ipynb>data table notebook</a>'\n",
              "            + ' to learn more about interactive tables.';\n",
              "          element.innerHTML = '';\n",
              "          dataTable['output_type'] = 'display_data';\n",
              "          await google.colab.output.renderOutput(dataTable, element);\n",
              "          const docLink = document.createElement('div');\n",
              "          docLink.innerHTML = docLinkHtml;\n",
              "          element.appendChild(docLink);\n",
              "        }\n",
              "      </script>\n",
              "    </div>\n",
              "  </div>\n",
              "  "
            ]
          },
          "metadata": {},
          "execution_count": 75
        }
      ]
    },
    {
      "cell_type": "code",
      "source": [
        "dnew = pd.get_dummies(dnew)"
      ],
      "metadata": {
        "id": "PP_ltiEkSuwK"
      },
      "execution_count": null,
      "outputs": []
    },
    {
      "cell_type": "code",
      "source": [
        "#Melihat data duplikat\n",
        "duplikat =dnew.duplicated()\n",
        "print(dnew[duplikat])"
      ],
      "metadata": {
        "colab": {
          "base_uri": "https://localhost:8080/"
        },
        "id": "v0UjGtsoS2GL",
        "outputId": "2df95534-c5d4-4c81-d214-1b6c9b319339"
      },
      "execution_count": null,
      "outputs": [
        {
          "output_type": "stream",
          "name": "stdout",
          "text": [
            "Empty DataFrame\n",
            "Columns: [DHBreakfast, NDHBreakfast, DHBoxes, NDHBoxes, NDHMeals, Nutrition, Money, Timestamp_10/22/2020 11:36:55, Timestamp_10/22/2020 11:36:58, Timestamp_10/22/2020 11:36:59, Timestamp_10/22/2020 11:37:00, Timestamp_10/22/2020 11:37:01, Timestamp_10/22/2020 11:37:10, Timestamp_10/22/2020 11:37:24, Timestamp_10/22/2020 11:37:29, Timestamp_10/22/2020 11:37:37, Timestamp_10/22/2020 11:37:40, Timestamp_10/22/2020 11:37:42, Timestamp_10/22/2020 11:37:50, Timestamp_10/22/2020 11:37:59, Timestamp_10/22/2020 11:38:10, Timestamp_10/22/2020 11:38:14, Timestamp_10/22/2020 11:38:18, Timestamp_10/22/2020 11:38:20, Timestamp_10/22/2020 11:38:24, Timestamp_10/22/2020 11:38:26, Timestamp_10/22/2020 11:38:28, Timestamp_10/22/2020 11:38:36, Timestamp_10/22/2020 11:38:48, Timestamp_10/22/2020 11:38:52, Timestamp_10/22/2020 11:38:56, Timestamp_10/22/2020 11:39:00, Timestamp_10/22/2020 11:39:01, Timestamp_10/22/2020 11:39:07, Timestamp_10/22/2020 11:39:17, Timestamp_10/22/2020 11:39:26, Timestamp_10/22/2020 11:39:32, Timestamp_10/22/2020 11:39:37, Timestamp_10/22/2020 11:39:55, Timestamp_10/22/2020 11:40:04, Timestamp_10/22/2020 11:40:10, Timestamp_10/22/2020 11:40:34, Timestamp_10/22/2020 11:41:26, Timestamp_10/22/2020 11:41:28, Timestamp_10/22/2020 11:41:34, Timestamp_10/22/2020 11:42:05, Timestamp_10/22/2020 11:44:12, Timestamp_10/22/2020 11:44:48, Timestamp_10/22/2020 11:44:59, Timestamp_10/22/2020 11:45:08, Timestamp_10/22/2020 11:45:19, Timestamp_10/22/2020 11:45:35, Timestamp_10/22/2020 11:45:41, Timestamp_10/22/2020 11:45:56, Timestamp_10/22/2020 11:46:13, Timestamp_10/22/2020 11:47:19, Timestamp_10/22/2020 11:47:27, Timestamp_10/22/2020 11:47:35, Timestamp_10/22/2020 11:47:56, Timestamp_10/22/2020 11:48:41, Timestamp_10/22/2020 11:48:44, Timestamp_10/22/2020 11:49:03, Timestamp_10/22/2020 11:49:39, Timestamp_10/22/2020 11:49:46, Timestamp_10/22/2020 11:49:50, Timestamp_10/22/2020 11:50:07, Timestamp_10/22/2020 11:50:12, Timestamp_10/22/2020 11:50:14, Timestamp_10/22/2020 11:50:31, Timestamp_10/22/2020 11:51:46, Timestamp_10/22/2020 11:52:17, Timestamp_10/22/2020 11:52:18, Timestamp_10/22/2020 11:52:30, Timestamp_10/22/2020 11:52:45, Timestamp_10/22/2020 11:56:12, Timestamp_10/22/2020 11:56:16, Timestamp_10/22/2020 11:57:49, Timestamp_10/22/2020 11:58:28, Timestamp_10/22/2020 11:58:40, Timestamp_10/22/2020 11:59:03, Timestamp_10/22/2020 11:59:26, Timestamp_10/22/2020 11:59:43, Timestamp_10/22/2020 11:59:45, Timestamp_10/22/2020 12:01:43, Timestamp_10/22/2020 12:02:20, Timestamp_10/22/2020 12:03:22, Timestamp_10/22/2020 12:05:13, Timestamp_10/22/2020 12:10:45, Timestamp_10/22/2020 12:12:46, Timestamp_10/22/2020 12:14:09, Timestamp_10/22/2020 12:15:43, Timestamp_10/22/2020 12:17:08, Timestamp_10/22/2020 12:18:18, Timestamp_10/22/2020 12:23:53, Timestamp_10/22/2020 12:26:07, Timestamp_10/22/2020 12:26:12, Timestamp_10/22/2020 12:27:29, Timestamp_10/22/2020 12:28:17, Timestamp_10/22/2020 12:29:39, Timestamp_10/22/2020 12:30:15, ...]\n",
            "Index: []\n",
            "\n",
            "[0 rows x 198 columns]\n"
          ]
        }
      ]
    },
    {
      "cell_type": "code",
      "source": [
        "# Cek missing values\n",
        "print(dnew.isnull().sum())"
      ],
      "metadata": {
        "colab": {
          "base_uri": "https://localhost:8080/"
        },
        "id": "36TFN6C5O9C1",
        "outputId": "e0d71a6a-9eea-40b3-e09d-838f35fe7616"
      },
      "execution_count": null,
      "outputs": [
        {
          "output_type": "stream",
          "name": "stdout",
          "text": [
            "DHBreakfast              0\n",
            "NDHBreakfast             0\n",
            "DHBoxes                  2\n",
            "NDHBoxes                 3\n",
            "NDHMeals                 0\n",
            "                        ..\n",
            "Activities_Soccer        0\n",
            "Activities_Tennis        0\n",
            "Activities_Volleyball    0\n",
            "BClass_No                0\n",
            "BClass_Yes               0\n",
            "Length: 198, dtype: int64\n"
          ]
        }
      ]
    },
    {
      "cell_type": "code",
      "source": [
        "#Menghapus baris Data Kosong / prepocessing data\n",
        "dnew = dnew.dropna()\n",
        "dnew.isna().sum()"
      ],
      "metadata": {
        "colab": {
          "base_uri": "https://localhost:8080/"
        },
        "id": "KlKf68UPO8D5",
        "outputId": "b1c5fde5-705e-48a8-c95e-7e8ba320f21a"
      },
      "execution_count": null,
      "outputs": [
        {
          "output_type": "execute_result",
          "data": {
            "text/plain": [
              "DHBreakfast              0\n",
              "NDHBreakfast             0\n",
              "DHBoxes                  0\n",
              "NDHBoxes                 0\n",
              "NDHMeals                 0\n",
              "                        ..\n",
              "Activities_Soccer        0\n",
              "Activities_Tennis        0\n",
              "Activities_Volleyball    0\n",
              "BClass_No                0\n",
              "BClass_Yes               0\n",
              "Length: 198, dtype: int64"
            ]
          },
          "metadata": {},
          "execution_count": 91
        }
      ]
    },
    {
      "cell_type": "code",
      "source": [
        "# Simpan cleaned data ke file csv\n",
        "dnew.to_csv('clean_food_survey.csv', index=False)"
      ],
      "metadata": {
        "id": "OP_bTdGIPgkI"
      },
      "execution_count": null,
      "outputs": []
    },
    {
      "cell_type": "code",
      "source": [
        "# Membaca dataset\n",
        "df5= pd.read_csv('clean_food_survey.csv')\n",
        "df5"
      ],
      "metadata": {
        "colab": {
          "base_uri": "https://localhost:8080/",
          "height": 626
        },
        "id": "HuMBASkfQacc",
        "outputId": "b4edc18d-9a9a-41a0-da8a-1e52f5333249"
      },
      "execution_count": null,
      "outputs": [
        {
          "output_type": "execute_result",
          "data": {
            "text/plain": [
              "    Grade               Activities  DHBreakfast  NDHBreakfast  DHBoxes  \\\n",
              "0    12th        None of the above            0             2      2.0   \n",
              "1    10th                   Soccer            5             2      2.0   \n",
              "2     9th                   Tennis            3             7      2.0   \n",
              "3    11th        None of the above            0             4      2.0   \n",
              "4    12th                  Musical            0             5      1.0   \n",
              "..    ...                      ...          ...           ...      ...   \n",
              "131  12th        None of the above            2             0      2.0   \n",
              "132  11th        None of the above            0             7      2.0   \n",
              "133   9th            Cross Country            0             0      0.0   \n",
              "134  10th  Pre-season conditioning            0             2      1.0   \n",
              "135   9th            Cross Country            0             7      2.0   \n",
              "\n",
              "     NDHBoxes  NDHMeals  Nutrition  Money  BClass_No  BClass_Yes  \\\n",
              "0         0.0         0        0.0   40.0          1           0   \n",
              "1         0.0         5        4.0   15.0          1           0   \n",
              "2         0.0        10        4.0   50.0          0           1   \n",
              "3         0.0         1        2.0    4.0          1           0   \n",
              "4         0.0         2        3.0   20.0          0           1   \n",
              "..        ...       ...        ...    ...        ...         ...   \n",
              "131       1.0         5        1.0   25.0          0           1   \n",
              "132       0.0         0        3.0    0.0          1           0   \n",
              "133       0.0         0        0.0    1.0          1           0   \n",
              "134       0.0         0        4.0    0.0          0           1   \n",
              "135       0.0         0        3.0    3.0          1           0   \n",
              "\n",
              "     Gender_Female  Gender_Male  Gender_Non-Binary  Gender_Other  \\\n",
              "0                1            0                  0             0   \n",
              "1                0            1                  0             0   \n",
              "2                1            0                  0             0   \n",
              "3                0            1                  0             0   \n",
              "4                1            0                  0             0   \n",
              "..             ...          ...                ...           ...   \n",
              "131              0            1                  0             0   \n",
              "132              1            0                  0             0   \n",
              "133              0            1                  0             0   \n",
              "134              1            0                  0             0   \n",
              "135              0            1                  0             0   \n",
              "\n",
              "     Boarding_Boarding  Boarding_Day  \n",
              "0                    0             1  \n",
              "1                    1             0  \n",
              "2                    0             1  \n",
              "3                    0             1  \n",
              "4                    0             1  \n",
              "..                 ...           ...  \n",
              "131                  1             0  \n",
              "132                  0             1  \n",
              "133                  0             1  \n",
              "134                  0             1  \n",
              "135                  0             1  \n",
              "\n",
              "[136 rows x 17 columns]"
            ],
            "text/html": [
              "\n",
              "  <div id=\"df-e63b89b8-82cc-41f8-87f0-e0e30155d9f6\">\n",
              "    <div class=\"colab-df-container\">\n",
              "      <div>\n",
              "<style scoped>\n",
              "    .dataframe tbody tr th:only-of-type {\n",
              "        vertical-align: middle;\n",
              "    }\n",
              "\n",
              "    .dataframe tbody tr th {\n",
              "        vertical-align: top;\n",
              "    }\n",
              "\n",
              "    .dataframe thead th {\n",
              "        text-align: right;\n",
              "    }\n",
              "</style>\n",
              "<table border=\"1\" class=\"dataframe\">\n",
              "  <thead>\n",
              "    <tr style=\"text-align: right;\">\n",
              "      <th></th>\n",
              "      <th>Grade</th>\n",
              "      <th>Activities</th>\n",
              "      <th>DHBreakfast</th>\n",
              "      <th>NDHBreakfast</th>\n",
              "      <th>DHBoxes</th>\n",
              "      <th>NDHBoxes</th>\n",
              "      <th>NDHMeals</th>\n",
              "      <th>Nutrition</th>\n",
              "      <th>Money</th>\n",
              "      <th>BClass_No</th>\n",
              "      <th>BClass_Yes</th>\n",
              "      <th>Gender_Female</th>\n",
              "      <th>Gender_Male</th>\n",
              "      <th>Gender_Non-Binary</th>\n",
              "      <th>Gender_Other</th>\n",
              "      <th>Boarding_Boarding</th>\n",
              "      <th>Boarding_Day</th>\n",
              "    </tr>\n",
              "  </thead>\n",
              "  <tbody>\n",
              "    <tr>\n",
              "      <th>0</th>\n",
              "      <td>12th</td>\n",
              "      <td>None of the above</td>\n",
              "      <td>0</td>\n",
              "      <td>2</td>\n",
              "      <td>2.0</td>\n",
              "      <td>0.0</td>\n",
              "      <td>0</td>\n",
              "      <td>0.0</td>\n",
              "      <td>40.0</td>\n",
              "      <td>1</td>\n",
              "      <td>0</td>\n",
              "      <td>1</td>\n",
              "      <td>0</td>\n",
              "      <td>0</td>\n",
              "      <td>0</td>\n",
              "      <td>0</td>\n",
              "      <td>1</td>\n",
              "    </tr>\n",
              "    <tr>\n",
              "      <th>1</th>\n",
              "      <td>10th</td>\n",
              "      <td>Soccer</td>\n",
              "      <td>5</td>\n",
              "      <td>2</td>\n",
              "      <td>2.0</td>\n",
              "      <td>0.0</td>\n",
              "      <td>5</td>\n",
              "      <td>4.0</td>\n",
              "      <td>15.0</td>\n",
              "      <td>1</td>\n",
              "      <td>0</td>\n",
              "      <td>0</td>\n",
              "      <td>1</td>\n",
              "      <td>0</td>\n",
              "      <td>0</td>\n",
              "      <td>1</td>\n",
              "      <td>0</td>\n",
              "    </tr>\n",
              "    <tr>\n",
              "      <th>2</th>\n",
              "      <td>9th</td>\n",
              "      <td>Tennis</td>\n",
              "      <td>3</td>\n",
              "      <td>7</td>\n",
              "      <td>2.0</td>\n",
              "      <td>0.0</td>\n",
              "      <td>10</td>\n",
              "      <td>4.0</td>\n",
              "      <td>50.0</td>\n",
              "      <td>0</td>\n",
              "      <td>1</td>\n",
              "      <td>1</td>\n",
              "      <td>0</td>\n",
              "      <td>0</td>\n",
              "      <td>0</td>\n",
              "      <td>0</td>\n",
              "      <td>1</td>\n",
              "    </tr>\n",
              "    <tr>\n",
              "      <th>3</th>\n",
              "      <td>11th</td>\n",
              "      <td>None of the above</td>\n",
              "      <td>0</td>\n",
              "      <td>4</td>\n",
              "      <td>2.0</td>\n",
              "      <td>0.0</td>\n",
              "      <td>1</td>\n",
              "      <td>2.0</td>\n",
              "      <td>4.0</td>\n",
              "      <td>1</td>\n",
              "      <td>0</td>\n",
              "      <td>0</td>\n",
              "      <td>1</td>\n",
              "      <td>0</td>\n",
              "      <td>0</td>\n",
              "      <td>0</td>\n",
              "      <td>1</td>\n",
              "    </tr>\n",
              "    <tr>\n",
              "      <th>4</th>\n",
              "      <td>12th</td>\n",
              "      <td>Musical</td>\n",
              "      <td>0</td>\n",
              "      <td>5</td>\n",
              "      <td>1.0</td>\n",
              "      <td>0.0</td>\n",
              "      <td>2</td>\n",
              "      <td>3.0</td>\n",
              "      <td>20.0</td>\n",
              "      <td>0</td>\n",
              "      <td>1</td>\n",
              "      <td>1</td>\n",
              "      <td>0</td>\n",
              "      <td>0</td>\n",
              "      <td>0</td>\n",
              "      <td>0</td>\n",
              "      <td>1</td>\n",
              "    </tr>\n",
              "    <tr>\n",
              "      <th>...</th>\n",
              "      <td>...</td>\n",
              "      <td>...</td>\n",
              "      <td>...</td>\n",
              "      <td>...</td>\n",
              "      <td>...</td>\n",
              "      <td>...</td>\n",
              "      <td>...</td>\n",
              "      <td>...</td>\n",
              "      <td>...</td>\n",
              "      <td>...</td>\n",
              "      <td>...</td>\n",
              "      <td>...</td>\n",
              "      <td>...</td>\n",
              "      <td>...</td>\n",
              "      <td>...</td>\n",
              "      <td>...</td>\n",
              "      <td>...</td>\n",
              "    </tr>\n",
              "    <tr>\n",
              "      <th>131</th>\n",
              "      <td>12th</td>\n",
              "      <td>None of the above</td>\n",
              "      <td>2</td>\n",
              "      <td>0</td>\n",
              "      <td>2.0</td>\n",
              "      <td>1.0</td>\n",
              "      <td>5</td>\n",
              "      <td>1.0</td>\n",
              "      <td>25.0</td>\n",
              "      <td>0</td>\n",
              "      <td>1</td>\n",
              "      <td>0</td>\n",
              "      <td>1</td>\n",
              "      <td>0</td>\n",
              "      <td>0</td>\n",
              "      <td>1</td>\n",
              "      <td>0</td>\n",
              "    </tr>\n",
              "    <tr>\n",
              "      <th>132</th>\n",
              "      <td>11th</td>\n",
              "      <td>None of the above</td>\n",
              "      <td>0</td>\n",
              "      <td>7</td>\n",
              "      <td>2.0</td>\n",
              "      <td>0.0</td>\n",
              "      <td>0</td>\n",
              "      <td>3.0</td>\n",
              "      <td>0.0</td>\n",
              "      <td>1</td>\n",
              "      <td>0</td>\n",
              "      <td>1</td>\n",
              "      <td>0</td>\n",
              "      <td>0</td>\n",
              "      <td>0</td>\n",
              "      <td>0</td>\n",
              "      <td>1</td>\n",
              "    </tr>\n",
              "    <tr>\n",
              "      <th>133</th>\n",
              "      <td>9th</td>\n",
              "      <td>Cross Country</td>\n",
              "      <td>0</td>\n",
              "      <td>0</td>\n",
              "      <td>0.0</td>\n",
              "      <td>0.0</td>\n",
              "      <td>0</td>\n",
              "      <td>0.0</td>\n",
              "      <td>1.0</td>\n",
              "      <td>1</td>\n",
              "      <td>0</td>\n",
              "      <td>0</td>\n",
              "      <td>1</td>\n",
              "      <td>0</td>\n",
              "      <td>0</td>\n",
              "      <td>0</td>\n",
              "      <td>1</td>\n",
              "    </tr>\n",
              "    <tr>\n",
              "      <th>134</th>\n",
              "      <td>10th</td>\n",
              "      <td>Pre-season conditioning</td>\n",
              "      <td>0</td>\n",
              "      <td>2</td>\n",
              "      <td>1.0</td>\n",
              "      <td>0.0</td>\n",
              "      <td>0</td>\n",
              "      <td>4.0</td>\n",
              "      <td>0.0</td>\n",
              "      <td>0</td>\n",
              "      <td>1</td>\n",
              "      <td>1</td>\n",
              "      <td>0</td>\n",
              "      <td>0</td>\n",
              "      <td>0</td>\n",
              "      <td>0</td>\n",
              "      <td>1</td>\n",
              "    </tr>\n",
              "    <tr>\n",
              "      <th>135</th>\n",
              "      <td>9th</td>\n",
              "      <td>Cross Country</td>\n",
              "      <td>0</td>\n",
              "      <td>7</td>\n",
              "      <td>2.0</td>\n",
              "      <td>0.0</td>\n",
              "      <td>0</td>\n",
              "      <td>3.0</td>\n",
              "      <td>3.0</td>\n",
              "      <td>1</td>\n",
              "      <td>0</td>\n",
              "      <td>0</td>\n",
              "      <td>1</td>\n",
              "      <td>0</td>\n",
              "      <td>0</td>\n",
              "      <td>0</td>\n",
              "      <td>1</td>\n",
              "    </tr>\n",
              "  </tbody>\n",
              "</table>\n",
              "<p>136 rows × 17 columns</p>\n",
              "</div>\n",
              "      <button class=\"colab-df-convert\" onclick=\"convertToInteractive('df-e63b89b8-82cc-41f8-87f0-e0e30155d9f6')\"\n",
              "              title=\"Convert this dataframe to an interactive table.\"\n",
              "              style=\"display:none;\">\n",
              "        \n",
              "  <svg xmlns=\"http://www.w3.org/2000/svg\" height=\"24px\"viewBox=\"0 0 24 24\"\n",
              "       width=\"24px\">\n",
              "    <path d=\"M0 0h24v24H0V0z\" fill=\"none\"/>\n",
              "    <path d=\"M18.56 5.44l.94 2.06.94-2.06 2.06-.94-2.06-.94-.94-2.06-.94 2.06-2.06.94zm-11 1L8.5 8.5l.94-2.06 2.06-.94-2.06-.94L8.5 2.5l-.94 2.06-2.06.94zm10 10l.94 2.06.94-2.06 2.06-.94-2.06-.94-.94-2.06-.94 2.06-2.06.94z\"/><path d=\"M17.41 7.96l-1.37-1.37c-.4-.4-.92-.59-1.43-.59-.52 0-1.04.2-1.43.59L10.3 9.45l-7.72 7.72c-.78.78-.78 2.05 0 2.83L4 21.41c.39.39.9.59 1.41.59.51 0 1.02-.2 1.41-.59l7.78-7.78 2.81-2.81c.8-.78.8-2.07 0-2.86zM5.41 20L4 18.59l7.72-7.72 1.47 1.35L5.41 20z\"/>\n",
              "  </svg>\n",
              "      </button>\n",
              "      \n",
              "  <style>\n",
              "    .colab-df-container {\n",
              "      display:flex;\n",
              "      flex-wrap:wrap;\n",
              "      gap: 12px;\n",
              "    }\n",
              "\n",
              "    .colab-df-convert {\n",
              "      background-color: #E8F0FE;\n",
              "      border: none;\n",
              "      border-radius: 50%;\n",
              "      cursor: pointer;\n",
              "      display: none;\n",
              "      fill: #1967D2;\n",
              "      height: 32px;\n",
              "      padding: 0 0 0 0;\n",
              "      width: 32px;\n",
              "    }\n",
              "\n",
              "    .colab-df-convert:hover {\n",
              "      background-color: #E2EBFA;\n",
              "      box-shadow: 0px 1px 2px rgba(60, 64, 67, 0.3), 0px 1px 3px 1px rgba(60, 64, 67, 0.15);\n",
              "      fill: #174EA6;\n",
              "    }\n",
              "\n",
              "    [theme=dark] .colab-df-convert {\n",
              "      background-color: #3B4455;\n",
              "      fill: #D2E3FC;\n",
              "    }\n",
              "\n",
              "    [theme=dark] .colab-df-convert:hover {\n",
              "      background-color: #434B5C;\n",
              "      box-shadow: 0px 1px 3px 1px rgba(0, 0, 0, 0.15);\n",
              "      filter: drop-shadow(0px 1px 2px rgba(0, 0, 0, 0.3));\n",
              "      fill: #FFFFFF;\n",
              "    }\n",
              "  </style>\n",
              "\n",
              "      <script>\n",
              "        const buttonEl =\n",
              "          document.querySelector('#df-e63b89b8-82cc-41f8-87f0-e0e30155d9f6 button.colab-df-convert');\n",
              "        buttonEl.style.display =\n",
              "          google.colab.kernel.accessAllowed ? 'block' : 'none';\n",
              "\n",
              "        async function convertToInteractive(key) {\n",
              "          const element = document.querySelector('#df-e63b89b8-82cc-41f8-87f0-e0e30155d9f6');\n",
              "          const dataTable =\n",
              "            await google.colab.kernel.invokeFunction('convertToInteractive',\n",
              "                                                     [key], {});\n",
              "          if (!dataTable) return;\n",
              "\n",
              "          const docLinkHtml = 'Like what you see? Visit the ' +\n",
              "            '<a target=\"_blank\" href=https://colab.research.google.com/notebooks/data_table.ipynb>data table notebook</a>'\n",
              "            + ' to learn more about interactive tables.';\n",
              "          element.innerHTML = '';\n",
              "          dataTable['output_type'] = 'display_data';\n",
              "          await google.colab.output.renderOutput(dataTable, element);\n",
              "          const docLink = document.createElement('div');\n",
              "          docLink.innerHTML = docLinkHtml;\n",
              "          element.appendChild(docLink);\n",
              "        }\n",
              "      </script>\n",
              "    </div>\n",
              "  </div>\n",
              "  "
            ]
          },
          "metadata": {},
          "execution_count": 82
        }
      ]
    },
    {
      "cell_type": "markdown",
      "source": [
        "#####Membagi data latih dan data uji"
      ],
      "metadata": {
        "id": "kJ7GNWW_k_ew"
      }
    },
    {
      "cell_type": "code",
      "source": [
        "from sklearn.model_selection import train_test_split\n",
        "x = dnew.drop('Nutrition',axis=1)\n",
        "y = dnew['Nutrition'] #kolom target\n",
        "x_train, x_test, y_train, y_test = train_test_split(x, y, test_size=0.3, random_state=42)\n",
        "print(\"Data Latih Yang Akan Digunakan :\\n\",x_train)\n",
        "print(\"Data Uji Yang Akan Digunakan :\\n\",x_test)"
      ],
      "metadata": {
        "colab": {
          "base_uri": "https://localhost:8080/"
        },
        "id": "sdpI_cDgQeQc",
        "outputId": "e4feebad-a424-4ecc-afd8-8769d0a5c991"
      },
      "execution_count": null,
      "outputs": [
        {
          "output_type": "stream",
          "name": "stdout",
          "text": [
            "Data Latih Yang Akan Digunakan :\n",
            "      DHBreakfast  NDHBreakfast  DHBoxes  NDHBoxes  NDHMeals  Money  \\\n",
            "74             6             0      4.0       0.0         1    2.0   \n",
            "150            4             3      2.0       0.0         2    3.0   \n",
            "114            2             0      2.0       1.0        10   20.0   \n",
            "56             5             2      1.0       0.0         0   25.0   \n",
            "23             0             7      3.0       0.0         3    3.0   \n",
            "..           ...           ...      ...       ...       ...    ...   \n",
            "87             7             0      2.0       0.0         0    2.0   \n",
            "127            7             0      2.0       2.0         0    0.0   \n",
            "22             0             7      4.0       0.0         0   30.0   \n",
            "113            0             0      2.0       0.0         6    7.0   \n",
            "123            2             5      3.0       0.0         0   40.0   \n",
            "\n",
            "     Timestamp_10/22/2020 11:36:55  Timestamp_10/22/2020 11:36:58  \\\n",
            "74                               0                              0   \n",
            "150                              0                              0   \n",
            "114                              0                              0   \n",
            "56                               0                              0   \n",
            "23                               0                              0   \n",
            "..                             ...                            ...   \n",
            "87                               0                              0   \n",
            "127                              0                              0   \n",
            "22                               0                              0   \n",
            "113                              0                              0   \n",
            "123                              0                              0   \n",
            "\n",
            "     Timestamp_10/22/2020 11:36:59  Timestamp_10/22/2020 11:37:00  ...  \\\n",
            "74                               0                              0  ...   \n",
            "150                              0                              0  ...   \n",
            "114                              0                              0  ...   \n",
            "56                               0                              0  ...   \n",
            "23                               0                              0  ...   \n",
            "..                             ...                            ...  ...   \n",
            "87                               0                              0  ...   \n",
            "127                              0                              0  ...   \n",
            "22                               0                              0  ...   \n",
            "113                              0                              0  ...   \n",
            "123                              0                              0  ...   \n",
            "\n",
            "     Activities_Golf  Activities_Intramurals  Activities_Musical  \\\n",
            "74                 0                       0                   0   \n",
            "150                0                       0                   0   \n",
            "114                0                       1                   0   \n",
            "56                 0                       0                   0   \n",
            "23                 0                       1                   0   \n",
            "..               ...                     ...                 ...   \n",
            "87                 0                       0                   0   \n",
            "127                0                       0                   0   \n",
            "22                 0                       0                   0   \n",
            "113                0                       0                   0   \n",
            "123                0                       0                   0   \n",
            "\n",
            "     Activities_None of the above  Activities_Pre-season conditioning  \\\n",
            "74                              0                                   1   \n",
            "150                             1                                   0   \n",
            "114                             0                                   0   \n",
            "56                              1                                   0   \n",
            "23                              0                                   0   \n",
            "..                            ...                                 ...   \n",
            "87                              0                                   1   \n",
            "127                             0                                   0   \n",
            "22                              0                                   0   \n",
            "113                             0                                   0   \n",
            "123                             0                                   0   \n",
            "\n",
            "     Activities_Soccer  Activities_Tennis  Activities_Volleyball  BClass_No  \\\n",
            "74                   0                  0                      0          1   \n",
            "150                  0                  0                      0          0   \n",
            "114                  0                  0                      0          0   \n",
            "56                   0                  0                      0          1   \n",
            "23                   0                  0                      0          0   \n",
            "..                 ...                ...                    ...        ...   \n",
            "87                   0                  0                      0          0   \n",
            "127                  0                  0                      0          1   \n",
            "22                   1                  0                      0          1   \n",
            "113                  0                  0                      0          1   \n",
            "123                  1                  0                      0          1   \n",
            "\n",
            "     BClass_Yes  \n",
            "74            0  \n",
            "150           1  \n",
            "114           1  \n",
            "56            0  \n",
            "23            1  \n",
            "..          ...  \n",
            "87            1  \n",
            "127           0  \n",
            "22            0  \n",
            "113           0  \n",
            "123           0  \n",
            "\n",
            "[95 rows x 197 columns]\n",
            "Data Uji Yang Akan Digunakan :\n",
            "      DHBreakfast  NDHBreakfast  DHBoxes  NDHBoxes  NDHMeals  Money  \\\n",
            "126            5             1      2.0       2.0         1    3.0   \n",
            "125            2             0      2.0       2.0         3    5.0   \n",
            "19             0             3      4.0       2.0        10   30.0   \n",
            "35             1             6      1.0       0.0        10   20.0   \n",
            "151            0             7      4.0       0.0         0    0.0   \n",
            "81             5             0      5.0       1.0         3    5.0   \n",
            "79             1             2      3.0       0.0         0   12.0   \n",
            "140            7             0      2.0       0.0         4   15.0   \n",
            "163            0             7      2.0       0.0         0    0.0   \n",
            "105            7             0      4.0       2.0        10    5.0   \n",
            "103            7             0      3.0       2.0         0   25.0   \n",
            "58             5             2      4.0       1.0         4   25.0   \n",
            "84             2             3      2.0       0.0         3   30.0   \n",
            "82             7             0      4.0       1.0         3   15.0   \n",
            "40             0             6      4.0       0.0         1   30.0   \n",
            "54             5             0      2.0       0.0         1   15.0   \n",
            "36             2             0      2.0       1.0         2   10.0   \n",
            "27             1             7      2.0       1.0         9   20.0   \n",
            "162            2             0      2.0       1.0         5   25.0   \n",
            "70             3             4      1.0       0.0         7   30.0   \n",
            "153            2             5      2.0       0.0         5   20.0   \n",
            "4              0             5      1.0       0.0         2   20.0   \n",
            "133            6             1      5.0       1.0         1   20.0   \n",
            "47             3             6      5.0       1.0        10   10.0   \n",
            "110            2             0      2.0       0.0         0    5.0   \n",
            "121            0             7      1.0       0.0         3    3.0   \n",
            "24             2             1      2.0       1.0         2    3.0   \n",
            "26             1             0      1.0       0.0         1   45.0   \n",
            "16             6             0      2.0       0.0         2   20.0   \n",
            "159            0             0      1.0       0.0         0   20.0   \n",
            "64             5             7      3.0       0.0         4   15.0   \n",
            "17             2             5      2.0       0.0         5    5.0   \n",
            "139            0             6      1.0       0.0         4    6.0   \n",
            "92             6             1      2.0       0.0         3    8.0   \n",
            "119            2             0      2.0       0.0         0    5.0   \n",
            "144            0             3      2.0       0.0         3   45.0   \n",
            "122            2             0      4.0       1.0         5    5.0   \n",
            "0              0             2      2.0       0.0         0   40.0   \n",
            "94             7             6      3.0       1.0         3    5.0   \n",
            "77             3             2      6.0       2.0         3   20.0   \n",
            "52             1             6      1.0       0.0         0   12.0   \n",
            "33             7             0      3.0       0.0         5   34.0   \n",
            "\n",
            "     Timestamp_10/22/2020 11:36:55  Timestamp_10/22/2020 11:36:58  \\\n",
            "126                              0                              0   \n",
            "125                              0                              0   \n",
            "19                               0                              0   \n",
            "35                               0                              0   \n",
            "151                              0                              0   \n",
            "81                               0                              0   \n",
            "79                               0                              0   \n",
            "140                              0                              0   \n",
            "163                              0                              0   \n",
            "105                              0                              0   \n",
            "103                              0                              0   \n",
            "58                               0                              0   \n",
            "84                               0                              0   \n",
            "82                               0                              0   \n",
            "40                               0                              0   \n",
            "54                               0                              0   \n",
            "36                               0                              0   \n",
            "27                               0                              0   \n",
            "162                              0                              0   \n",
            "70                               0                              0   \n",
            "153                              0                              0   \n",
            "4                                0                              0   \n",
            "133                              0                              0   \n",
            "47                               0                              0   \n",
            "110                              0                              0   \n",
            "121                              0                              0   \n",
            "24                               0                              0   \n",
            "26                               0                              0   \n",
            "16                               0                              0   \n",
            "159                              0                              0   \n",
            "64                               0                              0   \n",
            "17                               0                              0   \n",
            "139                              0                              0   \n",
            "92                               0                              0   \n",
            "119                              0                              0   \n",
            "144                              0                              0   \n",
            "122                              0                              0   \n",
            "0                                1                              0   \n",
            "94                               0                              0   \n",
            "77                               0                              0   \n",
            "52                               0                              0   \n",
            "33                               0                              0   \n",
            "\n",
            "     Timestamp_10/22/2020 11:36:59  Timestamp_10/22/2020 11:37:00  ...  \\\n",
            "126                              0                              0  ...   \n",
            "125                              0                              0  ...   \n",
            "19                               0                              0  ...   \n",
            "35                               0                              0  ...   \n",
            "151                              0                              0  ...   \n",
            "81                               0                              0  ...   \n",
            "79                               0                              0  ...   \n",
            "140                              0                              0  ...   \n",
            "163                              0                              0  ...   \n",
            "105                              0                              0  ...   \n",
            "103                              0                              0  ...   \n",
            "58                               0                              0  ...   \n",
            "84                               0                              0  ...   \n",
            "82                               0                              0  ...   \n",
            "40                               0                              0  ...   \n",
            "54                               0                              0  ...   \n",
            "36                               0                              0  ...   \n",
            "27                               0                              0  ...   \n",
            "162                              0                              0  ...   \n",
            "70                               0                              0  ...   \n",
            "153                              0                              0  ...   \n",
            "4                                0                              0  ...   \n",
            "133                              0                              0  ...   \n",
            "47                               0                              0  ...   \n",
            "110                              0                              0  ...   \n",
            "121                              0                              0  ...   \n",
            "24                               0                              0  ...   \n",
            "26                               0                              0  ...   \n",
            "16                               0                              0  ...   \n",
            "159                              0                              0  ...   \n",
            "64                               0                              0  ...   \n",
            "17                               0                              0  ...   \n",
            "139                              0                              0  ...   \n",
            "92                               0                              0  ...   \n",
            "119                              0                              0  ...   \n",
            "144                              0                              0  ...   \n",
            "122                              0                              0  ...   \n",
            "0                                0                              0  ...   \n",
            "94                               0                              0  ...   \n",
            "77                               0                              0  ...   \n",
            "52                               0                              0  ...   \n",
            "33                               0                              0  ...   \n",
            "\n",
            "     Activities_Golf  Activities_Intramurals  Activities_Musical  \\\n",
            "126                0                       0                   0   \n",
            "125                0                       0                   0   \n",
            "19                 0                       0                   0   \n",
            "35                 0                       0                   0   \n",
            "151                0                       0                   0   \n",
            "81                 0                       0                   0   \n",
            "79                 0                       0                   0   \n",
            "140                0                       0                   0   \n",
            "163                0                       0                   0   \n",
            "105                0                       0                   0   \n",
            "103                0                       0                   0   \n",
            "58                 0                       0                   0   \n",
            "84                 0                       0                   0   \n",
            "82                 0                       0                   0   \n",
            "40                 0                       0                   0   \n",
            "54                 0                       0                   1   \n",
            "36                 0                       0                   0   \n",
            "27                 0                       0                   0   \n",
            "162                0                       0                   0   \n",
            "70                 0                       0                   0   \n",
            "153                0                       0                   0   \n",
            "4                  0                       0                   1   \n",
            "133                0                       0                   0   \n",
            "47                 0                       0                   0   \n",
            "110                0                       0                   0   \n",
            "121                0                       0                   0   \n",
            "24                 0                       0                   0   \n",
            "26                 0                       0                   0   \n",
            "16                 0                       0                   0   \n",
            "159                0                       0                   1   \n",
            "64                 0                       0                   0   \n",
            "17                 0                       0                   0   \n",
            "139                0                       0                   0   \n",
            "92                 0                       0                   1   \n",
            "119                0                       0                   0   \n",
            "144                0                       0                   0   \n",
            "122                0                       0                   0   \n",
            "0                  0                       0                   0   \n",
            "94                 0                       0                   0   \n",
            "77                 0                       0                   0   \n",
            "52                 0                       0                   1   \n",
            "33                 0                       0                   0   \n",
            "\n",
            "     Activities_None of the above  Activities_Pre-season conditioning  \\\n",
            "126                             0                                   1   \n",
            "125                             0                                   0   \n",
            "19                              1                                   0   \n",
            "35                              0                                   0   \n",
            "151                             1                                   0   \n",
            "81                              0                                   0   \n",
            "79                              0                                   0   \n",
            "140                             0                                   1   \n",
            "163                             1                                   0   \n",
            "105                             0                                   0   \n",
            "103                             0                                   1   \n",
            "58                              0                                   1   \n",
            "84                              1                                   0   \n",
            "82                              0                                   0   \n",
            "40                              0                                   0   \n",
            "54                              0                                   0   \n",
            "36                              1                                   0   \n",
            "27                              1                                   0   \n",
            "162                             1                                   0   \n",
            "70                              1                                   0   \n",
            "153                             0                                   0   \n",
            "4                               0                                   0   \n",
            "133                             0                                   1   \n",
            "47                              0                                   0   \n",
            "110                             0                                   0   \n",
            "121                             0                                   0   \n",
            "24                              0                                   0   \n",
            "26                              0                                   0   \n",
            "16                              0                                   0   \n",
            "159                             0                                   0   \n",
            "64                              0                                   0   \n",
            "17                              0                                   0   \n",
            "139                             0                                   0   \n",
            "92                              0                                   0   \n",
            "119                             0                                   0   \n",
            "144                             0                                   1   \n",
            "122                             0                                   0   \n",
            "0                               1                                   0   \n",
            "94                              0                                   0   \n",
            "77                              0                                   0   \n",
            "52                              0                                   0   \n",
            "33                              0                                   0   \n",
            "\n",
            "     Activities_Soccer  Activities_Tennis  Activities_Volleyball  BClass_No  \\\n",
            "126                  0                  0                      0          0   \n",
            "125                  0                  0                      0          0   \n",
            "19                   0                  0                      0          0   \n",
            "35                   0                  1                      0          0   \n",
            "151                  0                  0                      0          1   \n",
            "81                   1                  0                      0          0   \n",
            "79                   0                  0                      0          0   \n",
            "140                  0                  0                      0          1   \n",
            "163                  0                  0                      0          1   \n",
            "105                  0                  0                      0          1   \n",
            "103                  0                  0                      0          0   \n",
            "58                   0                  0                      0          0   \n",
            "84                   0                  0                      0          0   \n",
            "82                   0                  0                      0          0   \n",
            "40                   0                  0                      0          0   \n",
            "54                   0                  0                      0          1   \n",
            "36                   0                  0                      0          1   \n",
            "27                   0                  0                      0          0   \n",
            "162                  0                  0                      0          0   \n",
            "70                   0                  0                      0          0   \n",
            "153                  0                  0                      1          0   \n",
            "4                    0                  0                      0          0   \n",
            "133                  0                  0                      0          1   \n",
            "47                   1                  0                      0          0   \n",
            "110                  1                  0                      0          0   \n",
            "121                  0                  0                      0          1   \n",
            "24                   0                  0                      0          0   \n",
            "26                   0                  1                      0          0   \n",
            "16                   0                  0                      1          0   \n",
            "159                  0                  0                      0          0   \n",
            "64                   0                  0                      0          0   \n",
            "17                   0                  0                      1          1   \n",
            "139                  0                  0                      1          0   \n",
            "92                   0                  0                      0          1   \n",
            "119                  1                  0                      0          0   \n",
            "144                  0                  0                      0          0   \n",
            "122                  0                  0                      0          1   \n",
            "0                    0                  0                      0          1   \n",
            "94                   0                  0                      0          0   \n",
            "77                   1                  0                      0          0   \n",
            "52                   0                  0                      0          1   \n",
            "33                   1                  0                      0          0   \n",
            "\n",
            "     BClass_Yes  \n",
            "126           1  \n",
            "125           1  \n",
            "19            1  \n",
            "35            1  \n",
            "151           0  \n",
            "81            1  \n",
            "79            1  \n",
            "140           0  \n",
            "163           0  \n",
            "105           0  \n",
            "103           1  \n",
            "58            1  \n",
            "84            1  \n",
            "82            1  \n",
            "40            1  \n",
            "54            0  \n",
            "36            0  \n",
            "27            1  \n",
            "162           1  \n",
            "70            1  \n",
            "153           1  \n",
            "4             1  \n",
            "133           0  \n",
            "47            1  \n",
            "110           1  \n",
            "121           0  \n",
            "24            1  \n",
            "26            1  \n",
            "16            1  \n",
            "159           1  \n",
            "64            1  \n",
            "17            0  \n",
            "139           1  \n",
            "92            0  \n",
            "119           1  \n",
            "144           1  \n",
            "122           0  \n",
            "0             0  \n",
            "94            1  \n",
            "77            1  \n",
            "52            0  \n",
            "33            1  \n",
            "\n",
            "[42 rows x 197 columns]\n"
          ]
        }
      ]
    },
    {
      "cell_type": "markdown",
      "source": [
        "x_train merepresentasikan data yang akan digunakan untuk melatih model, sedangkan y_train merepresentasikan label atau target untuk setiap data tersebut. "
      ],
      "metadata": {
        "id": "BVg4t_0da7_h"
      }
    },
    {
      "cell_type": "code",
      "source": [
        "print(x_train.shape,y_train.shape)\n",
        "# kalau ini beda ukurannya berarti x_train sama y_trainnya ada di modif"
      ],
      "metadata": {
        "colab": {
          "base_uri": "https://localhost:8080/"
        },
        "id": "ZKCAULz9Qjnh",
        "outputId": "6f1b426c-6c93-4e77-f986-d59d77011c83"
      },
      "execution_count": null,
      "outputs": [
        {
          "output_type": "stream",
          "name": "stdout",
          "text": [
            "(95, 197) (95,)\n"
          ]
        }
      ]
    },
    {
      "cell_type": "markdown",
      "source": [
        "#Modelling"
      ],
      "metadata": {
        "id": "8oUhIiAROMp6"
      }
    },
    {
      "cell_type": "markdown",
      "source": [
        "###Naive Bayes"
      ],
      "metadata": {
        "id": "5SCzoEzTOPrn"
      }
    },
    {
      "cell_type": "code",
      "source": [
        "import pandas as pd\n",
        "import numpy as np\n",
        "import math\n",
        "\n",
        "def naive_bayes_crisp_dm(dataset, target_column):\n",
        "    # Menghitung jumlah kelas dan jumlah nilai pada setiap atribut\n",
        "    class_values, attribute_values = {}, {}\n",
        "    for col in dataset.columns:\n",
        "        if col != target_column:\n",
        "            attribute_values[col] = list(set(dataset[col]))\n",
        "    class_counts = dataset[target_column].value_counts()\n",
        "    \n",
        "    # Menghitung probabilitas prior untuk setiap kelas\n",
        "    class_probs = {}\n",
        "    for cls in class_counts.index:\n",
        "        class_probs[cls] = class_counts[cls] / len(dataset)\n",
        "    \n",
        "    # Menghitung probabilitas kondisional untuk setiap nilai atribut pada setiap kelas\n",
        "    conditional_probs = {}\n",
        "    for col in attribute_values.keys():\n",
        "        for cls in class_counts.index:\n",
        "            class_data = dataset[dataset[target_column] == cls]\n",
        "            class_size = len(class_data)\n",
        "            for val in attribute_values[col]:\n",
        "                val_data = class_data[class_data[col] == val]\n",
        "                val_size = len(val_data)\n",
        "                prob = (val_size + 1) / (class_size + len(attribute_values[col]))\n",
        "                key = (col, val, cls)\n",
        "                conditional_probs[key] = prob\n",
        "    \n",
        "    # Melakukan prediksi pada dataset\n",
        "    correct_predictions = 0\n",
        "    for index, row in dataset.iterrows():\n",
        "        max_prob, max_class = -1, None\n",
        "        for cls in class_counts.index:\n",
        "            prob = class_probs[cls]\n",
        "            for col in attribute_values.keys():\n",
        "                key = (col, row[col], cls)\n",
        "                if key in conditional_probs:\n",
        "                    prob *= conditional_probs[key]\n",
        "            if prob > max_prob:\n",
        "                max_prob, max_class = prob, cls\n",
        "        if max_class == row[target_column]:\n",
        "            correct_predictions += 1\n",
        "    \n",
        "    # Menghitung akurasi prediksi\n",
        "    accuracy = correct_predictions / len(dataset)\n",
        "    \n",
        "    return accuracy\n",
        "\n"
      ],
      "metadata": {
        "id": "i-J9joN42vtQ"
      },
      "execution_count": null,
      "outputs": []
    },
    {
      "cell_type": "markdown",
      "source": [
        "######Menampilkan akurasi dengan kolom target Nutrition"
      ],
      "metadata": {
        "id": "p5DVxyU6-It2"
      }
    },
    {
      "cell_type": "code",
      "source": [
        "#Membaca data yang sudah di cleaning\n",
        "dnew = pd.read_csv(data_food_survey)\n",
        "\n",
        "# Menampilkan jumlah baris dan kolom pada dataset\n",
        "print('Dataset shape:', dnew.shape)\n",
        "\n",
        "# Menampilkan lima baris pertama dari dataset\n",
        "print('\\nFirst 5 rows:\\n', dnew.head())\n",
        "\n",
        "# Menjalankan fungsi naive_bayes_crisp_dm pada dataset\n",
        "accuracy = naive_bayes_crisp_dm(dnew, target_column='Nutrition')\n",
        "\n",
        "# Menampilkan akurasi prediksi\n",
        "print('\\nAccuracy:', accuracy)"
      ],
      "metadata": {
        "colab": {
          "base_uri": "https://localhost:8080/"
        },
        "id": "rTMPW7xL7dja",
        "outputId": "d246f5cc-f60c-4211-9547-f59a6039d786"
      },
      "execution_count": null,
      "outputs": [
        {
          "output_type": "stream",
          "name": "stdout",
          "text": [
            "Dataset shape: (167, 14)\n",
            "\n",
            "First 5 rows:\n",
            "              Timestamp  Gender  Boarding Grade Athlete         Activities  \\\n",
            "0  10/22/2020 11:36:55  Female       Day  12th      No  None of the above   \n",
            "1  10/22/2020 11:36:58    Male  Boarding  10th     Yes             Soccer   \n",
            "2  10/22/2020 11:36:59  Female       Day   9th     Yes             Tennis   \n",
            "3  10/22/2020 11:37:00    Male       Day  11th      No  None of the above   \n",
            "4  10/22/2020 11:37:01  Female       Day  12th      No            Musical   \n",
            "\n",
            "   DHBreakfast  NDHBreakfast BClass  DHBoxes  NDHBoxes  NDHMeals  Nutrition  \\\n",
            "0            0             2     No      2.0       0.0         0        0.0   \n",
            "1            5             2     No      2.0       0.0         5        4.0   \n",
            "2            3             7    Yes      2.0       0.0        10        4.0   \n",
            "3            0             4     No      2.0       0.0         1        2.0   \n",
            "4            0             5    Yes      1.0       0.0         2        3.0   \n",
            "\n",
            "   Money  \n",
            "0   40.0  \n",
            "1   15.0  \n",
            "2   50.0  \n",
            "3    4.0  \n",
            "4   20.0  \n",
            "\n",
            "Accuracy: 0.7485029940119761\n"
          ]
        }
      ]
    },
    {
      "cell_type": "markdown",
      "source": [
        "####kesimpulan naive bayes\n",
        "\n",
        "Output \"Accuracy: 0.7485029940119761\" menunjukkan bahwa model Naive Bayes yang dijalankan pada dataset memiliki akurasi sebesar 0.7485 atau sekitar 74.85%. Akurasi ini menunjukkan seberapa baik model dapat memprediksi kelas target (dalam hal ini, kategori \"Nutrition\" pada dataset) "
      ],
      "metadata": {
        "id": "jhyqAR8v2oHV"
      }
    },
    {
      "cell_type": "markdown",
      "source": [
        "###KNN"
      ],
      "metadata": {
        "id": "6-jIgEFOh_Zf"
      }
    },
    {
      "cell_type": "code",
      "source": [
        "import pandas as pd\n",
        "import numpy as np\n",
        "import math\n",
        "\n",
        "# Menghapus kolom dengan tipe data string\n",
        "dnew = dnew.select_dtypes(exclude=['object'])\n",
        "\n",
        "# Menentukan fitur dan target\n",
        "X = dnew.drop('Nutrition', axis=1).values.astype(float)\n",
        "y = dnew['Nutrition'].values\n",
        "\n",
        "# Mengimputasi nilai yang hilang\n",
        "X = np.nan_to_num(X, nan=np.nanmedian(X, axis=0))\n",
        "y = pd.Series(y).fillna(pd.Series(y).mode()[0]).values\n",
        "\n",
        "# Membagi data menjadi set pelatihan dan pengujian\n",
        "np.random.seed(42)\n",
        "indices = np.random.permutation(len(X))\n",
        "train_size = int(0.8 * len(X))\n",
        "X_train = X[indices[:train_size]]\n",
        "y_train = y[indices[:train_size]]\n",
        "X_test = X[indices[train_size:]]\n",
        "y_test = y[indices[train_size:]]\n",
        "\n",
        "# Melatih klasifikasi KNN dengan k=5\n",
        "def euclidean_distance(x1, x2):\n",
        "    distance = 0\n",
        "    for i in range(len(x1)):\n",
        "        distance += (x1[i] - x2[i]) ** 2\n",
        "    return math.sqrt(distance)\n",
        "\n",
        "def predict(X_train, y_train, x_test, k):\n",
        "    distances = []\n",
        "    for i in range(len(X_train)):\n",
        "        distance = euclidean_distance(X_train[i], x_test)\n",
        "        distances.append((distance, y_train[i]))\n",
        "    distances.sort()\n",
        "    neighbors = [distances[i][1] for i in range(k)]\n",
        "    return max(set(neighbors), key=neighbors.count)\n",
        "\n",
        "y_pred = []\n",
        "for x_test in X_test:\n",
        "    y_pred.append(predict(X_train, y_train, x_test, k=5))\n",
        "\n",
        "# Menghitung akurasi model\n",
        "accuracy = sum(y_pred == y_test) / len(y_test)\n",
        "print(f'Akurasi: {accuracy.item():.2f}')"
      ],
      "metadata": {
        "colab": {
          "base_uri": "https://localhost:8080/"
        },
        "id": "KpXtmK8xQTh7",
        "outputId": "65c79e35-05a3-48de-d999-c69f5604b6bc"
      },
      "execution_count": null,
      "outputs": [
        {
          "output_type": "stream",
          "name": "stdout",
          "text": [
            "Akurasi: 0.21\n"
          ]
        }
      ]
    },
    {
      "cell_type": "markdown",
      "source": [
        "Output Akurasi: 0.21 menunjukkan akurasi model klasifikasi KNN dengan k=5 pada dataset \"Food Survey.csv\" untuk memprediksi kategori \"Nutrition\". Dalam hal ini, nilai akurasi yang diperoleh adalah sebesar 0.22 atau 22%, yang berarti model ini kurang efektif untuk memprediksi kategori \"Nutrition\" pada dataset tersebut."
      ],
      "metadata": {
        "id": "AaqVWbuNgRiS"
      }
    },
    {
      "cell_type": "markdown",
      "source": [
        "### Algoritma C4.5"
      ],
      "metadata": {
        "id": "HaNiFZfzB5fk"
      }
    },
    {
      "cell_type": "code",
      "source": [
        "# import library\n",
        "import pandas as pd\n",
        "from sklearn.tree import DecisionTreeClassifier\n",
        "from sklearn.model_selection import train_test_split\n",
        "from sklearn.metrics import accuracy_score\n",
        "from sklearn.preprocessing import LabelEncoder, OneHotEncoder\n",
        "\n",
        "# Melakukan One-Hot Encoding pada kolom \"Nutrition\"\n",
        "ohe = OneHotEncoder()\n",
        "Nutrition = ohe.fit_transform(df[['Nutrition']])\n",
        "df_Nutrition = pd.DataFrame(Nutrition.toarray(), columns=ohe.get_feature_names_out(['Nutrition']))\n",
        "df = pd.concat([df, df_Nutrition], axis=1)\n",
        "\n",
        "# Membuat model dengan algoritma C4.5\n",
        "model = DecisionTreeClassifier(criterion='entropy', max_depth=3)\n",
        "\n",
        "# Melatih model dengan data latih\n",
        "model.fit(X_train, y_train)\n",
        "\n",
        "# Memprediksi kategori \"Nutrition\" pada data uji\n",
        "y_pred = model.predict(X_test)\n",
        "print(y_pred[0:5])\n",
        "print(y_test[0:5])\n",
        "\n",
        "from sklearn.metrics import accuracy_score,ConfusionMatrixDisplay,roc_auc_score,confusion_matrix\n",
        "from sklearn.model_selection import KFold,StratifiedKFold,RandomizedSearchCV\n",
        "from sklearn.metrics import roc_curve, auc\n",
        "from sklearn.tree import DecisionTreeClassifier,plot_tree\n",
        "c45 = DecisionTreeClassifier()\n",
        "c45.fit(X_train,y_train)\n",
        "pred_c45 = c45.predict(X_test)\n",
        "plot_tree(c45)\n",
        "cm= confusion_matrix(y_test, pred_c45)"
      ],
      "metadata": {
        "colab": {
          "base_uri": "https://localhost:8080/"
        },
        "id": "v-2lZ7I8lmLS",
        "outputId": "b1e24a8a-51be-4e26-a3ea-92980d90df6b"
      },
      "execution_count": null,
      "outputs": [
        {
          "output_type": "stream",
          "name": "stdout",
          "text": [
            "[3. 2. 3. 3. 3.]\n",
            "[0. 3. 3. 1. 5.]\n"
          ]
        },
        {
          "output_type": "display_data",
          "data": {
            "text/plain": [
              "<Figure size 640x480 with 1 Axes>"
            ],
            "image/png": "[encoded data removed]"
          },
          "metadata": {}
        }
      ]
    },
    {
      "cell_type": "code",
      "source": [
        "# Menghitung akurasi model\n",
        "accuracy = accuracy_score(y_test, y_pred)\n",
        "print(\"Akurasi model:\", accuracy)"
      ],
      "metadata": {
        "id": "8ODqhcPJIfgF",
        "colab": {
          "base_uri": "https://localhost:8080/"
        },
        "outputId": "3e18ae28-9e68-46fa-a32c-dcf8291b88f5"
      },
      "execution_count": null,
      "outputs": [
        {
          "output_type": "stream",
          "name": "stdout",
          "text": [
            "Akurasi model: 0.14705882352941177\n"
          ]
        }
      ]
    },
    {
      "cell_type": "markdown",
      "source": [
        "####kesimpulan \n",
        "diperoleh akurasi model sebesar 0.14705. Meskipun cukup tinggi, namun masih terdapat ruang untuk perbaikan dan peningkatan performa model dengan mengoptimalkan hyperparameter, melakukan pemilihan fitur, dan memperbaiki kualitas data. "
      ],
      "metadata": {
        "id": "pOckqjac3Xo5"
      }
    },
    {
      "cell_type": "markdown",
      "source": [
        "#Evaluation"
      ],
      "metadata": {
        "id": "7uCI0-x-0Vai"
      }
    },
    {
      "cell_type": "markdown",
      "source": [
        "###Naive Bayes"
      ],
      "metadata": {
        "id": "G4mxSWJ38ypk"
      }
    },
    {
      "cell_type": "code",
      "source": [
        "# Evaluasi Naive Bayes\n",
        "\n",
        "from sklearn.metrics import precision_score, recall_score, f1_score, accuracy_score, roc_auc_score\n",
        "from sklearn.naive_bayes import GaussianNB, MultinomialNB\n",
        "from sklearn.linear_model import LogisticRegression\n",
        "gnb = GaussianNB()\n",
        "y_pred = gnb.fit(x_train, y_train).predict(x_test)\n",
        "\n",
        "# Akurasi \n",
        "accuracy_bys = accuracy_score(y_test, y_pred)\n",
        "print(\"Akurasi: {:.2f}%\".format(accuracy_bys*100))\n",
        "\n",
        "# Presisi \n",
        "precision_bys = precision_score(y_test, y_pred, average=\"macro\")\n",
        "print(\"Presisi: {:.2f}%\".format(precision_bys*100))\n",
        "\n",
        "# Recall \n",
        "recall_bys = recall_score(y_test, y_pred, average=\"macro\")\n",
        "print(\"Recall: {:.2f}%\".format(recall_bys*100))\n",
        "\n",
        "# F-1 \n",
        "f1_bys = f1_score(y_test, y_pred, average=\"macro\")\n",
        "print(\"F-1: {:.2f}%\".format(f1_bys*100))\n",
        "\n",
        "# ROC AUC\n",
        "Y_gnb_score = gnb.predict_proba(x_test)\n",
        "lr = LogisticRegression() \n",
        "lr.fit(x_train, y_train)\n",
        "roc_auc_bys = roc_auc_score(y_test,Y_gnb_score, multi_class='ovr')\n",
        "print(\"AUC ROC: {:.2f}%\".format(roc_auc_bys*100))"
      ],
      "metadata": {
        "id": "SeBYSV2ChHJX",
        "outputId": "8e0402fa-b015-4405-f571-7a00d68cb8fa",
        "colab": {
          "base_uri": "https://localhost:8080/"
        }
      },
      "execution_count": null,
      "outputs": [
        {
          "output_type": "stream",
          "name": "stdout",
          "text": [
            "Akurasi: 14.29%\n",
            "Presisi: 5.44%\n",
            "Recall: 18.33%\n",
            "F-1: 8.35%\n",
            "AUC ROC: 41.36%\n"
          ]
        },
        {
          "output_type": "stream",
          "name": "stderr",
          "text": [
            "/usr/local/lib/python3.10/dist-packages/sklearn/metrics/_classification.py:1344: UndefinedMetricWarning: Precision is ill-defined and being set to 0.0 in labels with no predicted samples. Use `zero_division` parameter to control this behavior.\n",
            "  _warn_prf(average, modifier, msg_start, len(result))\n",
            "/usr/local/lib/python3.10/dist-packages/sklearn/linear_model/_logistic.py:458: ConvergenceWarning: lbfgs failed to converge (status=1):\n",
            "STOP: TOTAL NO. of ITERATIONS REACHED LIMIT.\n",
            "\n",
            "Increase the number of iterations (max_iter) or scale the data as shown in:\n",
            "    https://scikit-learn.org/stable/modules/preprocessing.html\n",
            "Please also refer to the documentation for alternative solver options:\n",
            "    https://scikit-learn.org/stable/modules/linear_model.html#logistic-regression\n",
            "  n_iter_i = _check_optimize_result(\n"
          ]
        }
      ]
    },
    {
      "cell_type": "markdown",
      "source": [
        "###KNN"
      ],
      "metadata": {
        "id": "CfFIvGSE8cbh"
      }
    },
    {
      "cell_type": "code",
      "source": [
        "import matplotlib.pyplot as plt\n",
        "import seaborn as sns\n",
        "from sklearn.tree import DecisionTreeClassifier\n",
        "from sklearn.metrics import roc_auc_score, precision_score, recall_score, f1_score, confusion_matrix\n",
        "\n",
        "# definisikan model Decision Tree Classifier dengan beberapa parameter\n",
        "clf = DecisionTreeClassifier(max_depth=3, random_state=42)\n",
        "\n",
        "# train model dengan data training\n",
        "clf.fit(X_train, y_train)\n",
        "\n",
        "# prediksi probabilitas target variabel pada data test\n",
        "y_pred_prob = clf.predict_proba(X_test)\n",
        "\n",
        "# hitung AUC\n",
        "roc_auc_knn = roc_auc_score(y_test, y_pred_prob, multi_class='ovr')\n",
        "print(f'AUC: {roc_auc_knn:.2f}')\n",
        "\n",
        "# prediksi target variabel pada data test\n",
        "y_pred = clf.predict(X_test)\n",
        "\n",
        "#Menghitung akurasi model\n",
        "accuracy_knn = sum(y_pred == y_test) / len(y_test)\n",
        "print(f'Akurasi: {accuracy_knn:.2f}')\n",
        "\n",
        "# hitung precision\n",
        "precision_knn = precision_score(y_test, y_pred, average='macro', zero_division=0)\n",
        "print(f'Precision: {precision_knn:.2f}')\n",
        "\n",
        "# hitung recall\n",
        "recall_knn = recall_score(y_test, y_pred, average='macro', zero_division=0)\n",
        "print(f'Recall: {recall_knn:.2f}')\n",
        "\n",
        "# hitung F1 Score\n",
        "f1_knn = f1_score(y_test, y_pred, average='macro', zero_division=0)\n",
        "print(f'F1 Score: {f1_knn:.2f}')\n",
        "\n",
        "# membuat confusion matrix\n",
        "cm = confusion_matrix(y_test, y_pred)\n",
        "\n",
        "#membuat heatmap confusion matrix\n",
        "sns.heatmap(cm, annot=True, cmap='Blues', fmt='g')\n",
        "\n",
        "#tambahkan judul dan label pada plot\n",
        "plt.title('Confusion Matrix')\n",
        "plt.xlabel('Predicted Label')\n",
        "plt.ylabel('True Label')\n",
        "\n",
        "#tampilkan plot\n",
        "plt.show()"
      ],
      "metadata": {
        "id": "bjJk19Fj8fTA",
        "outputId": "f08ff17e-edb0-4684-b6d5-d6f79525726d",
        "colab": {
          "base_uri": "https://localhost:8080/",
          "height": 564
        }
      },
      "execution_count": null,
      "outputs": [
        {
          "output_type": "stream",
          "name": "stdout",
          "text": [
            "AUC: 0.67\n",
            "Akurasi: 0.18\n",
            "Precision: 0.12\n",
            "Recall: 0.31\n",
            "F1 Score: 0.14\n"
          ]
        },
        {
          "output_type": "display_data",
          "data": {
            "text/plain": [
              "<Figure size 640x480 with 2 Axes>"
            ],
            "image/png": "[encoded data removed]"
          },
          "metadata": {}
        }
      ]
    },
    {
      "cell_type": "markdown",
      "source": [
        "###C4.5"
      ],
      "metadata": {
        "id": "MLyyw4tC8LfV"
      }
    },
    {
      "cell_type": "code",
      "source": [
        "# Evaluasi C4.5\n",
        "\n",
        "from sklearn.metrics import accuracy_score, classification_report, roc_auc_score, precision_score\n",
        "from sklearn.metrics import precision_score, recall_score, f1_score, accuracy_score\n",
        "# Melakukan prediksi dengan data testing\n",
        "y_pred = model.predict(X_test)\n",
        "\n",
        "# Akurasi \n",
        "accuracy = accuracy_score(y_test, y_pred)\n",
        "print(\"Akurasi: {:.2f}%\".format(accuracy*100))\n",
        "\n",
        "# Presisi \n",
        "precision = precision_score(y_test, y_pred, average='macro')\n",
        "print(\"Presisi: {:.2f}%\".format(precision*100))\n",
        "\n",
        "# Recall \n",
        "recall = recall_score(y_test, y_pred, average='macro')\n",
        "print(\"Recall: {:.2f}%\".format(recall*100))\n",
        "\n",
        "# F-1 \n",
        "f1 = f1_score(y_test, y_pred, average='macro')\n",
        "print(\"F-1: {:.2f}%\".format(f1*100))\n",
        "\n",
        "# ROC AUC\n",
        "from sklearn.linear_model import LogisticRegression\n",
        "clf = LogisticRegression(solver=\"liblinear\").fit(X_train, y_train)\n",
        "preds = clf.predict_proba(X_test)\n",
        "roc_auc = roc_auc_score(y_test,preds, multi_class='ovr')\n",
        "print(\"ROC AUC: {:.2f}%\".format(roc_auc*100))"
      ],
      "metadata": {
        "id": "jW459ldzgg5X",
        "outputId": "d06b111e-32cb-4fce-8b7a-917796f20d45",
        "colab": {
          "base_uri": "https://localhost:8080/"
        }
      },
      "execution_count": null,
      "outputs": [
        {
          "output_type": "stream",
          "name": "stdout",
          "text": [
            "Akurasi: 14.71%\n",
            "Presisi: 3.79%\n",
            "Recall: 8.33%\n",
            "F-1: 5.21%\n",
            "ROC AUC: 62.19%\n"
          ]
        },
        {
          "output_type": "stream",
          "name": "stderr",
          "text": [
            "/usr/local/lib/python3.10/dist-packages/sklearn/metrics/_classification.py:1344: UndefinedMetricWarning: Precision is ill-defined and being set to 0.0 in labels with no predicted samples. Use `zero_division` parameter to control this behavior.\n",
            "  _warn_prf(average, modifier, msg_start, len(result))\n"
          ]
        }
      ]
    },
    {
      "cell_type": "code",
      "source": [
        "data = [[accuracy, precision, recall, f1, roc_auc], \n",
        "        [accuracy_bys, precision_bys, recall_bys, f1_bys, roc_auc_bys], \n",
        "        [accuracy_knn, precision_knn, recall_knn, f1_knn, roc_auc_knn]]\n",
        "\n",
        "df_eval = pd.DataFrame(data, index=['Naive Bayes', 'KNN', 'C.45'], \n",
        "                       columns=['Akurasi', 'Presisi', 'Recall', 'F-1', 'ROC AUC'])\n",
        "df_eval"
      ],
      "metadata": {
        "id": "kThuH7zFhzdk",
        "outputId": "4fae0a73-54f4-49c4-be6c-435df78d2531",
        "colab": {
          "base_uri": "https://localhost:8080/",
          "height": 143
        }
      },
      "execution_count": null,
      "outputs": [
        {
          "output_type": "execute_result",
          "data": {
            "text/plain": [
              "              Akurasi   Presisi    Recall       F-1   ROC AUC\n",
              "Naive Bayes  0.147059  0.037879  0.083333  0.052083  0.621861\n",
              "KNN          0.071429  0.081197  0.069444  0.068783  0.414880\n",
              "C.45         0.176471  0.124868  0.305556  0.137500  0.667749"
            ],
            "text/html": [
              "\n",
              "  <div id=\"df-47eddbde-bf35-4311-8e84-012866c218f5\">\n",
              "    <div class=\"colab-df-container\">\n",
              "      <div>\n",
              "<style scoped>\n",
              "    .dataframe tbody tr th:only-of-type {\n",
              "        vertical-align: middle;\n",
              "    }\n",
              "\n",
              "    .dataframe tbody tr th {\n",
              "        vertical-align: top;\n",
              "    }\n",
              "\n",
              "    .dataframe thead th {\n",
              "        text-align: right;\n",
              "    }\n",
              "</style>\n",
              "<table border=\"1\" class=\"dataframe\">\n",
              "  <thead>\n",
              "    <tr style=\"text-align: right;\">\n",
              "      <th></th>\n",
              "      <th>Akurasi</th>\n",
              "      <th>Presisi</th>\n",
              "      <th>Recall</th>\n",
              "      <th>F-1</th>\n",
              "      <th>ROC AUC</th>\n",
              "    </tr>\n",
              "  </thead>\n",
              "  <tbody>\n",
              "    <tr>\n",
              "      <th>Naive Bayes</th>\n",
              "      <td>0.147059</td>\n",
              "      <td>0.037879</td>\n",
              "      <td>0.083333</td>\n",
              "      <td>0.052083</td>\n",
              "      <td>0.621861</td>\n",
              "    </tr>\n",
              "    <tr>\n",
              "      <th>KNN</th>\n",
              "      <td>0.071429</td>\n",
              "      <td>0.081197</td>\n",
              "      <td>0.069444</td>\n",
              "      <td>0.068783</td>\n",
              "      <td>0.414880</td>\n",
              "    </tr>\n",
              "    <tr>\n",
              "      <th>C.45</th>\n",
              "      <td>0.176471</td>\n",
              "      <td>0.124868</td>\n",
              "      <td>0.305556</td>\n",
              "      <td>0.137500</td>\n",
              "      <td>0.667749</td>\n",
              "    </tr>\n",
              "  </tbody>\n",
              "</table>\n",
              "</div>\n",
              "      <button class=\"colab-df-convert\" onclick=\"convertToInteractive('df-47eddbde-bf35-4311-8e84-012866c218f5')\"\n",
              "              title=\"Convert this dataframe to an interactive table.\"\n",
              "              style=\"display:none;\">\n",
              "        \n",
              "  <svg xmlns=\"http://www.w3.org/2000/svg\" height=\"24px\"viewBox=\"0 0 24 24\"\n",
              "       width=\"24px\">\n",
              "    <path d=\"M0 0h24v24H0V0z\" fill=\"none\"/>\n",
              "    <path d=\"M18.56 5.44l.94 2.06.94-2.06 2.06-.94-2.06-.94-.94-2.06-.94 2.06-2.06.94zm-11 1L8.5 8.5l.94-2.06 2.06-.94-2.06-.94L8.5 2.5l-.94 2.06-2.06.94zm10 10l.94 2.06.94-2.06 2.06-.94-2.06-.94-.94-2.06-.94 2.06-2.06.94z\"/><path d=\"M17.41 7.96l-1.37-1.37c-.4-.4-.92-.59-1.43-.59-.52 0-1.04.2-1.43.59L10.3 9.45l-7.72 7.72c-.78.78-.78 2.05 0 2.83L4 21.41c.39.39.9.59 1.41.59.51 0 1.02-.2 1.41-.59l7.78-7.78 2.81-2.81c.8-.78.8-2.07 0-2.86zM5.41 20L4 18.59l7.72-7.72 1.47 1.35L5.41 20z\"/>\n",
              "  </svg>\n",
              "      </button>\n",
              "      \n",
              "  <style>\n",
              "    .colab-df-container {\n",
              "      display:flex;\n",
              "      flex-wrap:wrap;\n",
              "      gap: 12px;\n",
              "    }\n",
              "\n",
              "    .colab-df-convert {\n",
              "      background-color: #E8F0FE;\n",
              "      border: none;\n",
              "      border-radius: 50%;\n",
              "      cursor: pointer;\n",
              "      display: none;\n",
              "      fill: #1967D2;\n",
              "      height: 32px;\n",
              "      padding: 0 0 0 0;\n",
              "      width: 32px;\n",
              "    }\n",
              "\n",
              "    .colab-df-convert:hover {\n",
              "      background-color: #E2EBFA;\n",
              "      box-shadow: 0px 1px 2px rgba(60, 64, 67, 0.3), 0px 1px 3px 1px rgba(60, 64, 67, 0.15);\n",
              "      fill: #174EA6;\n",
              "    }\n",
              "\n",
              "    [theme=dark] .colab-df-convert {\n",
              "      background-color: #3B4455;\n",
              "      fill: #D2E3FC;\n",
              "    }\n",
              "\n",
              "    [theme=dark] .colab-df-convert:hover {\n",
              "      background-color: #434B5C;\n",
              "      box-shadow: 0px 1px 3px 1px rgba(0, 0, 0, 0.15);\n",
              "      filter: drop-shadow(0px 1px 2px rgba(0, 0, 0, 0.3));\n",
              "      fill: #FFFFFF;\n",
              "    }\n",
              "  </style>\n",
              "\n",
              "      <script>\n",
              "        const buttonEl =\n",
              "          document.querySelector('#df-47eddbde-bf35-4311-8e84-012866c218f5 button.colab-df-convert');\n",
              "        buttonEl.style.display =\n",
              "          google.colab.kernel.accessAllowed ? 'block' : 'none';\n",
              "\n",
              "        async function convertToInteractive(key) {\n",
              "          const element = document.querySelector('#df-47eddbde-bf35-4311-8e84-012866c218f5');\n",
              "          const dataTable =\n",
              "            await google.colab.kernel.invokeFunction('convertToInteractive',\n",
              "                                                     [key], {});\n",
              "          if (!dataTable) return;\n",
              "\n",
              "          const docLinkHtml = 'Like what you see? Visit the ' +\n",
              "            '<a target=\"_blank\" href=https://colab.research.google.com/notebooks/data_table.ipynb>data table notebook</a>'\n",
              "            + ' to learn more about interactive tables.';\n",
              "          element.innerHTML = '';\n",
              "          dataTable['output_type'] = 'display_data';\n",
              "          await google.colab.output.renderOutput(dataTable, element);\n",
              "          const docLink = document.createElement('div');\n",
              "          docLink.innerHTML = docLinkHtml;\n",
              "          element.appendChild(docLink);\n",
              "        }\n",
              "      </script>\n",
              "    </div>\n",
              "  </div>\n",
              "  "
            ]
          },
          "metadata": {},
          "execution_count": 31
        }
      ]
    },
    {
      "cell_type": "code",
      "source": [
        "best = [\n",
        "    df_eval.iloc[:,0].max(),df_eval.iloc[:,1].max(),df_eval.iloc[:,2].max(),df_eval.iloc[:,3].max(),df_eval.iloc[:,4].max(),\n",
        "    ] \n",
        "\n",
        "def _color_pink(val):\n",
        "    if val in best:\n",
        "        return 'background-color: pink; color:white'\n",
        "    return 'backround-color:white'\n",
        "\n",
        "df_eval.style.applymap(_color_pink)"
      ],
      "metadata": {
        "id": "ELls5eYXh-OU",
        "colab": {
          "base_uri": "https://localhost:8080/",
          "height": 143
        },
        "outputId": "1a8dcfe7-ce0a-4cf3-ccfd-946bd7b6daf1"
      },
      "execution_count": null,
      "outputs": [
        {
          "output_type": "execute_result",
          "data": {
            "text/plain": [
              "<pandas.io.formats.style.Styler at 0x7f87e1d5a530>"
            ],
            "text/html": [
              "<style type=\"text/css\">\n",
              "#T_caf05_row0_col0, #T_caf05_row0_col1, #T_caf05_row0_col2, #T_caf05_row0_col3, #T_caf05_row0_col4, #T_caf05_row1_col0, #T_caf05_row1_col1, #T_caf05_row1_col2, #T_caf05_row1_col3, #T_caf05_row1_col4 {\n",
              "  backround-color: white;\n",
              "}\n",
              "#T_caf05_row2_col0, #T_caf05_row2_col1, #T_caf05_row2_col2, #T_caf05_row2_col3, #T_caf05_row2_col4 {\n",
              "  background-color: pink;\n",
              "  color: white;\n",
              "}\n",
              "</style>\n",
              "<table id=\"T_caf05\" class=\"dataframe\">\n",
              "  <thead>\n",
              "    <tr>\n",
              "      <th class=\"blank level0\" >&nbsp;</th>\n",
              "      <th id=\"T_caf05_level0_col0\" class=\"col_heading level0 col0\" >Akurasi</th>\n",
              "      <th id=\"T_caf05_level0_col1\" class=\"col_heading level0 col1\" >Presisi</th>\n",
              "      <th id=\"T_caf05_level0_col2\" class=\"col_heading level0 col2\" >Recall</th>\n",
              "      <th id=\"T_caf05_level0_col3\" class=\"col_heading level0 col3\" >F-1</th>\n",
              "      <th id=\"T_caf05_level0_col4\" class=\"col_heading level0 col4\" >ROC AUC</th>\n",
              "    </tr>\n",
              "  </thead>\n",
              "  <tbody>\n",
              "    <tr>\n",
              "      <th id=\"T_caf05_level0_row0\" class=\"row_heading level0 row0\" >Naive Bayes</th>\n",
              "      <td id=\"T_caf05_row0_col0\" class=\"data row0 col0\" >0.147059</td>\n",
              "      <td id=\"T_caf05_row0_col1\" class=\"data row0 col1\" >0.037879</td>\n",
              "      <td id=\"T_caf05_row0_col2\" class=\"data row0 col2\" >0.083333</td>\n",
              "      <td id=\"T_caf05_row0_col3\" class=\"data row0 col3\" >0.052083</td>\n",
              "      <td id=\"T_caf05_row0_col4\" class=\"data row0 col4\" >0.621861</td>\n",
              "    </tr>\n",
              "    <tr>\n",
              "      <th id=\"T_caf05_level0_row1\" class=\"row_heading level0 row1\" >KNN</th>\n",
              "      <td id=\"T_caf05_row1_col0\" class=\"data row1 col0\" >0.071429</td>\n",
              "      <td id=\"T_caf05_row1_col1\" class=\"data row1 col1\" >0.081197</td>\n",
              "      <td id=\"T_caf05_row1_col2\" class=\"data row1 col2\" >0.069444</td>\n",
              "      <td id=\"T_caf05_row1_col3\" class=\"data row1 col3\" >0.068783</td>\n",
              "      <td id=\"T_caf05_row1_col4\" class=\"data row1 col4\" >0.414880</td>\n",
              "    </tr>\n",
              "    <tr>\n",
              "      <th id=\"T_caf05_level0_row2\" class=\"row_heading level0 row2\" >C.45</th>\n",
              "      <td id=\"T_caf05_row2_col0\" class=\"data row2 col0\" >0.176471</td>\n",
              "      <td id=\"T_caf05_row2_col1\" class=\"data row2 col1\" >0.124868</td>\n",
              "      <td id=\"T_caf05_row2_col2\" class=\"data row2 col2\" >0.305556</td>\n",
              "      <td id=\"T_caf05_row2_col3\" class=\"data row2 col3\" >0.137500</td>\n",
              "      <td id=\"T_caf05_row2_col4\" class=\"data row2 col4\" >0.667749</td>\n",
              "    </tr>\n",
              "  </tbody>\n",
              "</table>\n"
            ]
          },
          "metadata": {},
          "execution_count": 33
        }
      ]
    },
    {
      "cell_type": "markdown",
      "source": [
        "**Kesimpulan**\n",
        "\n",
        "Berdasarkan perhitungan dengan metriks evaluasi pada data supervised yaitu Akurasi, Presisi, Recall, F1, dan AUC di ketahui bahwa dari ketiga algoritma yang digunakan yang paling bagus adalah algoritma C4.5 di setiap metriksnya."
      ],
      "metadata": {
        "id": "35jg5fGint35"
      }
    }
  ]
}